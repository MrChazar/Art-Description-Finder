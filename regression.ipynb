{
 "cells": [
  {
   "cell_type": "markdown",
   "source": [],
   "metadata": {
    "collapsed": false
   },
   "id": "7f372f8a528511c6"
  },
  {
   "cell_type": "code",
   "outputs": [],
   "source": [
    "import numpy as np\n",
    "\n",
    "text = ('hello world')"
   ],
   "metadata": {
    "collapsed": false,
    "ExecuteTime": {
     "end_time": "2024-05-12T12:42:10.018648Z",
     "start_time": "2024-05-12T12:42:10.006740Z"
    }
   },
   "id": "9f26e4f2a0210687",
   "execution_count": 1
  },
  {
   "cell_type": "code",
   "outputs": [],
   "source": [
    "#read sample_data_csv\n",
    "import pandas as pd\n",
    "data = pd.read_csv(r'Test/data/Sample_data.csv')"
   ],
   "metadata": {
    "collapsed": false,
    "ExecuteTime": {
     "end_time": "2024-05-12T12:46:19.239304Z",
     "start_time": "2024-05-12T12:46:19.197333Z"
    }
   },
   "id": "92b4c4a8ce1d8fb4",
   "execution_count": 3
  },
  {
   "cell_type": "code",
   "outputs": [
    {
     "data": {
      "text/plain": "Index(['id', 'frightening', 'None', 'Mild', 'Moderate', 'Severe',\n       'Total_votes', 'Aspect_rating', 'text'],\n      dtype='object')"
     },
     "execution_count": 43,
     "metadata": {},
     "output_type": "execute_result"
    }
   ],
   "source": [
    "data.columns"
   ],
   "metadata": {
    "collapsed": false,
    "ExecuteTime": {
     "end_time": "2024-05-12T12:59:54.541323Z",
     "start_time": "2024-05-12T12:59:54.528850Z"
    }
   },
   "id": "3cf3e59461fc253c",
   "execution_count": 43
  },
  {
   "cell_type": "code",
   "outputs": [],
   "source": [
    "#pipeline that would take the data and make two objects, text(the text from column text) and label from column frightening, use word2vec to convert text to vectors, and then use a classifier to predict the label\n",
    "from sklearn.pipeline import Pipeline\n",
    "from sklearn.feature_extraction.text import CountVectorizer\n",
    "from sklearn.feature_extraction.text import TfidfTransformer\n",
    "from sklearn.linear_model import \n",
    "from sklearn.model_selection import train_test_split\n",
    "from sklearn.metrics import classification_report\n",
    "from sklearn.metrics import accuracy_score"
   ],
   "metadata": {
    "collapsed": false,
    "ExecuteTime": {
     "end_time": "2024-05-12T12:49:26.215030Z",
     "start_time": "2024-05-12T12:49:25.472352Z"
    }
   },
   "id": "2f94c67ac44a046e",
   "execution_count": 5
  },
  {
   "cell_type": "code",
   "outputs": [],
   "source": [
    "X = data['text']\n",
    "#y has to be the array from columns 'None', 'Mild', 'Moderate', 'Severe'\n",
    "y = data[['None', 'Mild', 'Moderate', 'Severe']]\n",
    "#turn y into a single numpy array where "
   ],
   "metadata": {
    "collapsed": false,
    "ExecuteTime": {
     "end_time": "2024-05-12T13:26:54.751125Z",
     "start_time": "2024-05-12T13:26:54.733099Z"
    }
   },
   "id": "fb9f048b3138e25a",
   "execution_count": 106
  },
  {
   "cell_type": "code",
   "outputs": [],
   "source": [
    "import torch.nn as nn\n",
    "import torch\n",
    "import numpy as np\n",
    "from transformers import AutoTokenizer\n",
    "tokenizer = AutoTokenizer.from_pretrained(\"distilbert/distilbert-base-uncased\")"
   ],
   "metadata": {
    "collapsed": false,
    "ExecuteTime": {
     "end_time": "2024-05-12T13:12:31.605433Z",
     "start_time": "2024-05-12T13:12:31.596789Z"
    }
   },
   "id": "f4dd8b4c15816d4b",
   "execution_count": 87
  },
  {
   "cell_type": "code",
   "outputs": [],
   "source": [
    "X_train, X_test, y_train, y_test = train_test_split(X, y, test_size=0.2, random_state=42)"
   ],
   "metadata": {
    "collapsed": false,
    "ExecuteTime": {
     "end_time": "2024-05-12T13:30:28.454902Z",
     "start_time": "2024-05-12T13:30:28.433639Z"
    }
   },
   "id": "d76c1a795d653e5c",
   "execution_count": 122
  },
  {
   "cell_type": "code",
   "outputs": [],
   "source": [
    "X_train = [torch.tensor(tokenizer.encode(text)).float().unsqueeze(0) for text in X_train]\n",
    "X_test = [torch.tensor(tokenizer.encode(text)).float().unsqueeze(0) for text in X_test]\n",
    "y_train = [torch.tensor(y).float().unsqueeze(0) for y in y_train.values]\n",
    "y_test = [torch.tensor(y).float().unsqueeze(0) for y in y_test.values]"
   ],
   "metadata": {
    "collapsed": false,
    "ExecuteTime": {
     "end_time": "2024-05-12T13:30:28.703228Z",
     "start_time": "2024-05-12T13:30:28.679766Z"
    }
   },
   "id": "f4aead808dfad75a",
   "execution_count": 123
  },
  {
   "cell_type": "code",
   "outputs": [
    {
     "data": {
      "text/plain": "torch.Size([1, 6])"
     },
     "execution_count": 129,
     "metadata": {},
     "output_type": "execute_result"
    }
   ],
   "source": [
    "X_train[0].size()"
   ],
   "metadata": {
    "collapsed": false,
    "ExecuteTime": {
     "end_time": "2024-05-12T13:31:03.965125Z",
     "start_time": "2024-05-12T13:31:03.941189Z"
    }
   },
   "id": "9467600c815d836e",
   "execution_count": 129
  },
  {
   "cell_type": "code",
   "outputs": [
    {
     "name": "stdout",
     "output_type": "stream",
     "text": [
      "torch.Size([1, 5])\n"
     ]
    }
   ],
   "source": [
    "embed_dim = len(X[0])\n",
    "m = nn.Linear(embed_dim, 5)\n",
    "input = torch.randn(1, embed_dim)\n",
    "output = m(input)\n",
    "print(output.size())"
   ],
   "metadata": {
    "collapsed": false,
    "ExecuteTime": {
     "end_time": "2024-05-12T13:30:29.064229Z",
     "start_time": "2024-05-12T13:30:29.041655Z"
    }
   },
   "id": "760f039e33dd3043",
   "execution_count": 124
  },
  {
   "cell_type": "code",
   "outputs": [],
   "source": [
    "#logistic regression\n",
    "class LinearRegression(nn.Module):\n",
    "    def __init__(self, input_dim, output_dim):\n",
    "        super(LinearRegression, self).__init__()\n",
    "        self.linear = nn.Linear(input_dim, output_dim)\n",
    "    def forward(self, x):\n",
    "        out = self.linear(x)\n",
    "        return out"
   ],
   "metadata": {
    "collapsed": false,
    "ExecuteTime": {
     "end_time": "2024-05-12T13:30:29.392474Z",
     "start_time": "2024-05-12T13:30:29.375028Z"
    }
   },
   "id": "f43fdd4110a98ca8",
   "execution_count": 125
  },
  {
   "cell_type": "code",
   "outputs": [
    {
     "data": {
      "text/plain": "torch.Size([1, 6])"
     },
     "execution_count": 131,
     "metadata": {},
     "output_type": "execute_result"
    }
   ],
   "source": [
    "X_train[0].size()"
   ],
   "metadata": {
    "collapsed": false,
    "ExecuteTime": {
     "end_time": "2024-05-12T13:31:37.380647Z",
     "start_time": "2024-05-12T13:31:37.357204Z"
    }
   },
   "id": "434bd24a259498e1",
   "execution_count": 131
  },
  {
   "cell_type": "code",
   "outputs": [
    {
     "data": {
      "text/plain": "torch.Size([1, 4])"
     },
     "execution_count": 132,
     "metadata": {},
     "output_type": "execute_result"
    }
   ],
   "source": [
    "y_train[0].size()"
   ],
   "metadata": {
    "collapsed": false,
    "ExecuteTime": {
     "end_time": "2024-05-12T13:32:08.598747Z",
     "start_time": "2024-05-12T13:32:08.574191Z"
    }
   },
   "id": "fa78b7a77e6be5c1",
   "execution_count": 132
  },
  {
   "cell_type": "code",
   "outputs": [],
   "source": [
    "#now build a model where input will be X_train[0] and output will be y_train[0]\n",
    "model = LinearRegression(6, 4)"
   ],
   "metadata": {
    "collapsed": false,
    "ExecuteTime": {
     "end_time": "2024-05-12T13:35:52.797517Z",
     "start_time": "2024-05-12T13:35:52.776491Z"
    }
   },
   "id": "2fa3751a0ad27756",
   "execution_count": 146
  },
  {
   "cell_type": "code",
   "outputs": [],
   "source": [
    "#loss function\n",
    "criterion = nn.MSELoss()\n",
    "#optimizer\n",
    "optimizer = torch.optim.SGD(model.parameters(), lr=0.000001)"
   ],
   "metadata": {
    "collapsed": false,
    "ExecuteTime": {
     "end_time": "2024-05-12T13:37:51.806965Z",
     "start_time": "2024-05-12T13:37:51.792965Z"
    }
   },
   "id": "e11461f734338def",
   "execution_count": 151
  },
  {
   "cell_type": "code",
   "outputs": [
    {
     "data": {
      "text/plain": "tensor([[-2452.7881,  -406.7979,   652.3381, -4646.0908]],\n       grad_fn=<AddmmBackward0>)"
     },
     "execution_count": 149,
     "metadata": {},
     "output_type": "execute_result"
    }
   ],
   "source": [
    "model.forward(X_train[0])"
   ],
   "metadata": {
    "collapsed": false,
    "ExecuteTime": {
     "end_time": "2024-05-12T13:36:02.459201Z",
     "start_time": "2024-05-12T13:36:02.445201Z"
    }
   },
   "id": "5ae8e49a775762a7",
   "execution_count": 149
  },
  {
   "cell_type": "code",
   "outputs": [
    {
     "name": "stdout",
     "output_type": "stream",
     "text": [
      "Epoch [1/100], Loss: 7083282.5000\n",
      "Epoch [1/100], Loss: 38751518720.0000\n",
      "Epoch [1/100], Loss: 211984972775424.0000\n",
      "Epoch [1/100], Loss: 1159650103451975680.0000\n",
      "Epoch [2/100], Loss: 6344141982083338731520.0000\n",
      "Epoch [2/100], Loss: 34706677366027038589190144.0000\n",
      "Epoch [2/100], Loss: 189858173193018668000080822272.0000\n",
      "Epoch [2/100], Loss: 1038606702045890977026065697865728.0000\n",
      "Epoch [3/100], Loss: 5681945283806684544184919644493053952.0000\n",
      "Epoch [3/100], Loss: inf\n",
      "Epoch [3/100], Loss: inf\n",
      "Epoch [3/100], Loss: inf\n",
      "Epoch [4/100], Loss: inf\n",
      "Epoch [4/100], Loss: inf\n",
      "Epoch [4/100], Loss: inf\n",
      "Epoch [4/100], Loss: inf\n",
      "Epoch [5/100], Loss: inf\n",
      "Epoch [5/100], Loss: inf\n",
      "Epoch [5/100], Loss: inf\n",
      "Epoch [5/100], Loss: nan\n",
      "Epoch [6/100], Loss: nan\n",
      "Epoch [6/100], Loss: nan\n",
      "Epoch [6/100], Loss: nan\n",
      "Epoch [6/100], Loss: nan\n",
      "Epoch [7/100], Loss: nan\n",
      "Epoch [7/100], Loss: nan\n",
      "Epoch [7/100], Loss: nan\n",
      "Epoch [7/100], Loss: nan\n",
      "Epoch [8/100], Loss: nan\n",
      "Epoch [8/100], Loss: nan\n",
      "Epoch [8/100], Loss: nan\n",
      "Epoch [8/100], Loss: nan\n",
      "Epoch [9/100], Loss: nan\n",
      "Epoch [9/100], Loss: nan\n",
      "Epoch [9/100], Loss: nan\n",
      "Epoch [9/100], Loss: nan\n",
      "Epoch [10/100], Loss: nan\n",
      "Epoch [10/100], Loss: nan\n",
      "Epoch [10/100], Loss: nan\n",
      "Epoch [10/100], Loss: nan\n",
      "Epoch [11/100], Loss: nan\n",
      "Epoch [11/100], Loss: nan\n",
      "Epoch [11/100], Loss: nan\n",
      "Epoch [11/100], Loss: nan\n",
      "Epoch [12/100], Loss: nan\n",
      "Epoch [12/100], Loss: nan\n",
      "Epoch [12/100], Loss: nan\n",
      "Epoch [12/100], Loss: nan\n",
      "Epoch [13/100], Loss: nan\n",
      "Epoch [13/100], Loss: nan\n",
      "Epoch [13/100], Loss: nan\n",
      "Epoch [13/100], Loss: nan\n",
      "Epoch [14/100], Loss: nan\n",
      "Epoch [14/100], Loss: nan\n",
      "Epoch [14/100], Loss: nan\n",
      "Epoch [14/100], Loss: nan\n",
      "Epoch [15/100], Loss: nan\n",
      "Epoch [15/100], Loss: nan\n",
      "Epoch [15/100], Loss: nan\n",
      "Epoch [15/100], Loss: nan\n",
      "Epoch [16/100], Loss: nan\n",
      "Epoch [16/100], Loss: nan\n",
      "Epoch [16/100], Loss: nan\n",
      "Epoch [16/100], Loss: nan\n",
      "Epoch [17/100], Loss: nan\n",
      "Epoch [17/100], Loss: nan\n",
      "Epoch [17/100], Loss: nan\n",
      "Epoch [17/100], Loss: nan\n",
      "Epoch [18/100], Loss: nan\n",
      "Epoch [18/100], Loss: nan\n",
      "Epoch [18/100], Loss: nan\n",
      "Epoch [18/100], Loss: nan\n",
      "Epoch [19/100], Loss: nan\n",
      "Epoch [19/100], Loss: nan\n",
      "Epoch [19/100], Loss: nan\n",
      "Epoch [19/100], Loss: nan\n",
      "Epoch [20/100], Loss: nan\n",
      "Epoch [20/100], Loss: nan\n",
      "Epoch [20/100], Loss: nan\n",
      "Epoch [20/100], Loss: nan\n",
      "Epoch [21/100], Loss: nan\n",
      "Epoch [21/100], Loss: nan\n",
      "Epoch [21/100], Loss: nan\n",
      "Epoch [21/100], Loss: nan\n",
      "Epoch [22/100], Loss: nan\n",
      "Epoch [22/100], Loss: nan\n",
      "Epoch [22/100], Loss: nan\n",
      "Epoch [22/100], Loss: nan\n",
      "Epoch [23/100], Loss: nan\n",
      "Epoch [23/100], Loss: nan\n",
      "Epoch [23/100], Loss: nan\n",
      "Epoch [23/100], Loss: nan\n",
      "Epoch [24/100], Loss: nan\n",
      "Epoch [24/100], Loss: nan\n",
      "Epoch [24/100], Loss: nan\n",
      "Epoch [24/100], Loss: nan\n",
      "Epoch [25/100], Loss: nan\n",
      "Epoch [25/100], Loss: nan\n",
      "Epoch [25/100], Loss: nan\n",
      "Epoch [25/100], Loss: nan\n",
      "Epoch [26/100], Loss: nan\n",
      "Epoch [26/100], Loss: nan\n",
      "Epoch [26/100], Loss: nan\n",
      "Epoch [26/100], Loss: nan\n",
      "Epoch [27/100], Loss: nan\n",
      "Epoch [27/100], Loss: nan\n",
      "Epoch [27/100], Loss: nan\n",
      "Epoch [27/100], Loss: nan\n",
      "Epoch [28/100], Loss: nan\n",
      "Epoch [28/100], Loss: nan\n",
      "Epoch [28/100], Loss: nan\n",
      "Epoch [28/100], Loss: nan\n",
      "Epoch [29/100], Loss: nan\n",
      "Epoch [29/100], Loss: nan\n",
      "Epoch [29/100], Loss: nan\n",
      "Epoch [29/100], Loss: nan\n",
      "Epoch [30/100], Loss: nan\n",
      "Epoch [30/100], Loss: nan\n",
      "Epoch [30/100], Loss: nan\n",
      "Epoch [30/100], Loss: nan\n",
      "Epoch [31/100], Loss: nan\n",
      "Epoch [31/100], Loss: nan\n",
      "Epoch [31/100], Loss: nan\n",
      "Epoch [31/100], Loss: nan\n",
      "Epoch [32/100], Loss: nan\n",
      "Epoch [32/100], Loss: nan\n",
      "Epoch [32/100], Loss: nan\n",
      "Epoch [32/100], Loss: nan\n",
      "Epoch [33/100], Loss: nan\n",
      "Epoch [33/100], Loss: nan\n",
      "Epoch [33/100], Loss: nan\n",
      "Epoch [33/100], Loss: nan\n",
      "Epoch [34/100], Loss: nan\n",
      "Epoch [34/100], Loss: nan\n",
      "Epoch [34/100], Loss: nan\n",
      "Epoch [34/100], Loss: nan\n",
      "Epoch [35/100], Loss: nan\n",
      "Epoch [35/100], Loss: nan\n",
      "Epoch [35/100], Loss: nan\n",
      "Epoch [35/100], Loss: nan\n",
      "Epoch [36/100], Loss: nan\n",
      "Epoch [36/100], Loss: nan\n",
      "Epoch [36/100], Loss: nan\n",
      "Epoch [36/100], Loss: nan\n",
      "Epoch [37/100], Loss: nan\n",
      "Epoch [37/100], Loss: nan\n",
      "Epoch [37/100], Loss: nan\n",
      "Epoch [37/100], Loss: nan\n",
      "Epoch [38/100], Loss: nan\n",
      "Epoch [38/100], Loss: nan\n",
      "Epoch [38/100], Loss: nan\n",
      "Epoch [38/100], Loss: nan\n",
      "Epoch [39/100], Loss: nan\n",
      "Epoch [39/100], Loss: nan\n",
      "Epoch [39/100], Loss: nan\n",
      "Epoch [39/100], Loss: nan\n",
      "Epoch [40/100], Loss: nan\n",
      "Epoch [40/100], Loss: nan\n",
      "Epoch [40/100], Loss: nan\n",
      "Epoch [40/100], Loss: nan\n",
      "Epoch [41/100], Loss: nan\n",
      "Epoch [41/100], Loss: nan\n",
      "Epoch [41/100], Loss: nan\n",
      "Epoch [41/100], Loss: nan\n",
      "Epoch [42/100], Loss: nan\n",
      "Epoch [42/100], Loss: nan\n",
      "Epoch [42/100], Loss: nan\n",
      "Epoch [42/100], Loss: nan\n",
      "Epoch [43/100], Loss: nan\n",
      "Epoch [43/100], Loss: nan\n",
      "Epoch [43/100], Loss: nan\n",
      "Epoch [43/100], Loss: nan\n",
      "Epoch [44/100], Loss: nan\n",
      "Epoch [44/100], Loss: nan\n",
      "Epoch [44/100], Loss: nan\n",
      "Epoch [44/100], Loss: nan\n",
      "Epoch [45/100], Loss: nan\n",
      "Epoch [45/100], Loss: nan\n",
      "Epoch [45/100], Loss: nan\n",
      "Epoch [45/100], Loss: nan\n",
      "Epoch [46/100], Loss: nan\n",
      "Epoch [46/100], Loss: nan\n",
      "Epoch [46/100], Loss: nan\n",
      "Epoch [46/100], Loss: nan\n",
      "Epoch [47/100], Loss: nan\n",
      "Epoch [47/100], Loss: nan\n",
      "Epoch [47/100], Loss: nan\n",
      "Epoch [47/100], Loss: nan\n",
      "Epoch [48/100], Loss: nan\n",
      "Epoch [48/100], Loss: nan\n",
      "Epoch [48/100], Loss: nan\n",
      "Epoch [48/100], Loss: nan\n",
      "Epoch [49/100], Loss: nan\n",
      "Epoch [49/100], Loss: nan\n",
      "Epoch [49/100], Loss: nan\n",
      "Epoch [49/100], Loss: nan\n",
      "Epoch [50/100], Loss: nan\n",
      "Epoch [50/100], Loss: nan\n",
      "Epoch [50/100], Loss: nan\n",
      "Epoch [50/100], Loss: nan\n",
      "Epoch [51/100], Loss: nan\n",
      "Epoch [51/100], Loss: nan\n",
      "Epoch [51/100], Loss: nan\n",
      "Epoch [51/100], Loss: nan\n",
      "Epoch [52/100], Loss: nan\n",
      "Epoch [52/100], Loss: nan\n",
      "Epoch [52/100], Loss: nan\n",
      "Epoch [52/100], Loss: nan\n",
      "Epoch [53/100], Loss: nan\n",
      "Epoch [53/100], Loss: nan\n",
      "Epoch [53/100], Loss: nan\n",
      "Epoch [53/100], Loss: nan\n",
      "Epoch [54/100], Loss: nan\n",
      "Epoch [54/100], Loss: nan\n",
      "Epoch [54/100], Loss: nan\n",
      "Epoch [54/100], Loss: nan\n",
      "Epoch [55/100], Loss: nan\n",
      "Epoch [55/100], Loss: nan\n",
      "Epoch [55/100], Loss: nan\n",
      "Epoch [55/100], Loss: nan\n",
      "Epoch [56/100], Loss: nan\n",
      "Epoch [56/100], Loss: nan\n",
      "Epoch [56/100], Loss: nan\n",
      "Epoch [56/100], Loss: nan\n",
      "Epoch [57/100], Loss: nan\n",
      "Epoch [57/100], Loss: nan\n",
      "Epoch [57/100], Loss: nan\n",
      "Epoch [57/100], Loss: nan\n",
      "Epoch [58/100], Loss: nan\n",
      "Epoch [58/100], Loss: nan\n",
      "Epoch [58/100], Loss: nan\n",
      "Epoch [58/100], Loss: nan\n",
      "Epoch [59/100], Loss: nan\n",
      "Epoch [59/100], Loss: nan\n",
      "Epoch [59/100], Loss: nan\n",
      "Epoch [59/100], Loss: nan\n",
      "Epoch [60/100], Loss: nan\n",
      "Epoch [60/100], Loss: nan\n",
      "Epoch [60/100], Loss: nan\n",
      "Epoch [60/100], Loss: nan\n",
      "Epoch [61/100], Loss: nan\n",
      "Epoch [61/100], Loss: nan\n",
      "Epoch [61/100], Loss: nan\n",
      "Epoch [61/100], Loss: nan\n",
      "Epoch [62/100], Loss: nan\n",
      "Epoch [62/100], Loss: nan\n",
      "Epoch [62/100], Loss: nan\n",
      "Epoch [62/100], Loss: nan\n",
      "Epoch [63/100], Loss: nan\n",
      "Epoch [63/100], Loss: nan\n",
      "Epoch [63/100], Loss: nan\n",
      "Epoch [63/100], Loss: nan\n",
      "Epoch [64/100], Loss: nan\n",
      "Epoch [64/100], Loss: nan\n",
      "Epoch [64/100], Loss: nan\n",
      "Epoch [64/100], Loss: nan\n",
      "Epoch [65/100], Loss: nan\n",
      "Epoch [65/100], Loss: nan\n",
      "Epoch [65/100], Loss: nan\n",
      "Epoch [65/100], Loss: nan\n",
      "Epoch [66/100], Loss: nan\n",
      "Epoch [66/100], Loss: nan\n",
      "Epoch [66/100], Loss: nan\n",
      "Epoch [66/100], Loss: nan\n",
      "Epoch [67/100], Loss: nan\n",
      "Epoch [67/100], Loss: nan\n",
      "Epoch [67/100], Loss: nan\n",
      "Epoch [67/100], Loss: nan\n",
      "Epoch [68/100], Loss: nan\n",
      "Epoch [68/100], Loss: nan\n",
      "Epoch [68/100], Loss: nan\n",
      "Epoch [68/100], Loss: nan\n",
      "Epoch [69/100], Loss: nan\n",
      "Epoch [69/100], Loss: nan\n",
      "Epoch [69/100], Loss: nan\n",
      "Epoch [69/100], Loss: nan\n",
      "Epoch [70/100], Loss: nan\n",
      "Epoch [70/100], Loss: nan\n",
      "Epoch [70/100], Loss: nan\n",
      "Epoch [70/100], Loss: nan\n",
      "Epoch [71/100], Loss: nan\n",
      "Epoch [71/100], Loss: nan\n",
      "Epoch [71/100], Loss: nan\n",
      "Epoch [71/100], Loss: nan\n",
      "Epoch [72/100], Loss: nan\n",
      "Epoch [72/100], Loss: nan\n",
      "Epoch [72/100], Loss: nan\n",
      "Epoch [72/100], Loss: nan\n",
      "Epoch [73/100], Loss: nan\n",
      "Epoch [73/100], Loss: nan\n",
      "Epoch [73/100], Loss: nan\n",
      "Epoch [73/100], Loss: nan\n",
      "Epoch [74/100], Loss: nan\n",
      "Epoch [74/100], Loss: nan\n",
      "Epoch [74/100], Loss: nan\n",
      "Epoch [74/100], Loss: nan\n",
      "Epoch [75/100], Loss: nan\n",
      "Epoch [75/100], Loss: nan\n",
      "Epoch [75/100], Loss: nan\n",
      "Epoch [75/100], Loss: nan\n",
      "Epoch [76/100], Loss: nan\n",
      "Epoch [76/100], Loss: nan\n",
      "Epoch [76/100], Loss: nan\n",
      "Epoch [76/100], Loss: nan\n",
      "Epoch [77/100], Loss: nan\n",
      "Epoch [77/100], Loss: nan\n",
      "Epoch [77/100], Loss: nan\n",
      "Epoch [77/100], Loss: nan\n",
      "Epoch [78/100], Loss: nan\n",
      "Epoch [78/100], Loss: nan\n",
      "Epoch [78/100], Loss: nan\n",
      "Epoch [78/100], Loss: nan\n",
      "Epoch [79/100], Loss: nan\n",
      "Epoch [79/100], Loss: nan\n",
      "Epoch [79/100], Loss: nan\n",
      "Epoch [79/100], Loss: nan\n",
      "Epoch [80/100], Loss: nan\n",
      "Epoch [80/100], Loss: nan\n",
      "Epoch [80/100], Loss: nan\n",
      "Epoch [80/100], Loss: nan\n",
      "Epoch [81/100], Loss: nan\n",
      "Epoch [81/100], Loss: nan\n",
      "Epoch [81/100], Loss: nan\n",
      "Epoch [81/100], Loss: nan\n",
      "Epoch [82/100], Loss: nan\n",
      "Epoch [82/100], Loss: nan\n",
      "Epoch [82/100], Loss: nan\n",
      "Epoch [82/100], Loss: nan\n",
      "Epoch [83/100], Loss: nan\n",
      "Epoch [83/100], Loss: nan\n",
      "Epoch [83/100], Loss: nan\n",
      "Epoch [83/100], Loss: nan\n",
      "Epoch [84/100], Loss: nan\n",
      "Epoch [84/100], Loss: nan\n",
      "Epoch [84/100], Loss: nan\n",
      "Epoch [84/100], Loss: nan\n",
      "Epoch [85/100], Loss: nan\n",
      "Epoch [85/100], Loss: nan\n",
      "Epoch [85/100], Loss: nan\n",
      "Epoch [85/100], Loss: nan\n",
      "Epoch [86/100], Loss: nan\n",
      "Epoch [86/100], Loss: nan\n",
      "Epoch [86/100], Loss: nan\n",
      "Epoch [86/100], Loss: nan\n",
      "Epoch [87/100], Loss: nan\n",
      "Epoch [87/100], Loss: nan\n",
      "Epoch [87/100], Loss: nan\n",
      "Epoch [87/100], Loss: nan\n",
      "Epoch [88/100], Loss: nan\n",
      "Epoch [88/100], Loss: nan\n",
      "Epoch [88/100], Loss: nan\n",
      "Epoch [88/100], Loss: nan\n",
      "Epoch [89/100], Loss: nan\n",
      "Epoch [89/100], Loss: nan\n",
      "Epoch [89/100], Loss: nan\n",
      "Epoch [89/100], Loss: nan\n",
      "Epoch [90/100], Loss: nan\n",
      "Epoch [90/100], Loss: nan\n",
      "Epoch [90/100], Loss: nan\n",
      "Epoch [90/100], Loss: nan\n",
      "Epoch [91/100], Loss: nan\n",
      "Epoch [91/100], Loss: nan\n",
      "Epoch [91/100], Loss: nan\n",
      "Epoch [91/100], Loss: nan\n",
      "Epoch [92/100], Loss: nan\n",
      "Epoch [92/100], Loss: nan\n",
      "Epoch [92/100], Loss: nan\n",
      "Epoch [92/100], Loss: nan\n",
      "Epoch [93/100], Loss: nan\n",
      "Epoch [93/100], Loss: nan\n",
      "Epoch [93/100], Loss: nan\n",
      "Epoch [93/100], Loss: nan\n",
      "Epoch [94/100], Loss: nan\n",
      "Epoch [94/100], Loss: nan\n",
      "Epoch [94/100], Loss: nan\n",
      "Epoch [94/100], Loss: nan\n",
      "Epoch [95/100], Loss: nan\n",
      "Epoch [95/100], Loss: nan\n",
      "Epoch [95/100], Loss: nan\n",
      "Epoch [95/100], Loss: nan\n",
      "Epoch [96/100], Loss: nan\n",
      "Epoch [96/100], Loss: nan\n",
      "Epoch [96/100], Loss: nan\n",
      "Epoch [96/100], Loss: nan\n",
      "Epoch [97/100], Loss: nan\n",
      "Epoch [97/100], Loss: nan\n",
      "Epoch [97/100], Loss: nan\n",
      "Epoch [97/100], Loss: nan\n",
      "Epoch [98/100], Loss: nan\n",
      "Epoch [98/100], Loss: nan\n",
      "Epoch [98/100], Loss: nan\n",
      "Epoch [98/100], Loss: nan\n",
      "Epoch [99/100], Loss: nan\n",
      "Epoch [99/100], Loss: nan\n",
      "Epoch [99/100], Loss: nan\n",
      "Epoch [99/100], Loss: nan\n",
      "Epoch [100/100], Loss: nan\n",
      "Epoch [100/100], Loss: nan\n",
      "Epoch [100/100], Loss: nan\n",
      "Epoch [100/100], Loss: nan\n"
     ]
    }
   ],
   "source": [
    "#train the model\n",
    "num_epochs = 100\n",
    "for epoch in range(num_epochs):\n",
    "    for i in range(len(X_train)):\n",
    "        optimizer.zero_grad()\n",
    "        outputs = model(X_train[i])\n",
    "        loss = criterion(outputs, y_train[i])\n",
    "        loss.backward()\n",
    "        optimizer.step()\n",
    "        print('Epoch [{}/{}], Loss: {:.4f}'.format(epoch+1, num_epochs, loss.item()))"
   ],
   "metadata": {
    "collapsed": false,
    "ExecuteTime": {
     "end_time": "2024-05-12T13:37:56.466014Z",
     "start_time": "2024-05-12T13:37:56.057102Z"
    }
   },
   "id": "1958f70976fa8126",
   "execution_count": 152
  },
  {
   "cell_type": "code",
   "outputs": [],
   "source": [],
   "metadata": {
    "collapsed": false
   },
   "id": "3937477c66e4698d"
  }
 ],
 "metadata": {
  "kernelspec": {
   "display_name": "Python 3",
   "language": "python",
   "name": "python3"
  },
  "language_info": {
   "codemirror_mode": {
    "name": "ipython",
    "version": 2
   },
   "file_extension": ".py",
   "mimetype": "text/x-python",
   "name": "python",
   "nbconvert_exporter": "python",
   "pygments_lexer": "ipython2",
   "version": "2.7.6"
  }
 },
 "nbformat": 4,
 "nbformat_minor": 5
}
