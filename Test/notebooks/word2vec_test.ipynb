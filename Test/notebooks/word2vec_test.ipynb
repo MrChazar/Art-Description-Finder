{
 "cells": [
  {
   "cell_type": "code",
   "execution_count": 24,
   "id": "initial_id",
   "metadata": {
    "collapsed": true,
    "ExecuteTime": {
     "end_time": "2024-05-11T21:45:51.336647700Z",
     "start_time": "2024-05-11T21:45:51.306452300Z"
    }
   },
   "outputs": [
    {
     "name": "stderr",
     "output_type": "stream",
     "text": [
      "[nltk_data] Downloading package punkt to\n",
      "[nltk_data]     C:\\Users\\jakub\\AppData\\Roaming\\nltk_data...\n",
      "[nltk_data]   Package punkt is already up-to-date!\n"
     ]
    }
   ],
   "source": [
    "from gensim.models import Word2Vec\n",
    "import gensim\n",
    "import nltk\n",
    "from nltk.tokenize import word_tokenize\n",
    "import warnings\n",
    "import pandas as pd\n",
    "import pickle\n",
    "\n",
    "nltk.download('punkt')\n",
    "warnings.filterwarnings(action='ignore')\n",
    "\n",
    "df = pd.read_csv('../data/Sample_data.csv')\n",
    "\n",
    "data = []"
   ]
  },
  {
   "cell_type": "code",
   "execution_count": 11,
   "outputs": [
    {
     "data": {
      "text/plain": "[['sample', 'dialogue', 'script', '1'],\n ['sample', 'dialogue', 'script', '2'],\n ['sample', 'dialogue', 'script', '3'],\n ['sample', 'dialogue', 'script', '4'],\n ['sample', 'dialogue', 'script', '5'],\n ['sample', 'dialogue', 'script', '1'],\n ['sample', 'dialogue', 'script', '2'],\n ['sample', 'dialogue', 'script', '3'],\n ['sample', 'dialogue', 'script', '4'],\n ['sample', 'dialogue', 'script', '5']]"
     },
     "execution_count": 11,
     "metadata": {},
     "output_type": "execute_result"
    }
   ],
   "source": [
    "# Tokenizacja słów\n",
    "for text in df['text']:\n",
    "    temp = []\n",
    "    for word in word_tokenize(text):\n",
    "        temp.append(word.lower())\n",
    "    data.append(temp)\n",
    "data"
   ],
   "metadata": {
    "collapsed": false,
    "ExecuteTime": {
     "end_time": "2024-05-11T20:08:22.757951400Z",
     "start_time": "2024-05-11T20:08:22.742707600Z"
    }
   },
   "id": "fcc84717dd4343b9"
  },
  {
   "cell_type": "code",
   "execution_count": 17,
   "outputs": [
    {
     "data": {
      "text/plain": "<gensim.models.word2vec.Word2Vec at 0x1c3a6420130>"
     },
     "execution_count": 17,
     "metadata": {},
     "output_type": "execute_result"
    }
   ],
   "source": [
    "# Tworzenie CBOW model\n",
    "model1 = gensim.models.Word2Vec(data, min_count=1, vector_size=100, window=5)\n",
    "\n",
    "# Tworzenie Skip Gram model\n",
    "model2 = gensim.models.Word2Vec(data, min_count=1, vector_size=100, window=5, sg=1)"
   ],
   "metadata": {
    "collapsed": false,
    "ExecuteTime": {
     "end_time": "2024-05-11T20:25:25.252017200Z",
     "start_time": "2024-05-11T20:25:24.587320800Z"
    }
   },
   "id": "862912379887d7a5"
  },
  {
   "cell_type": "code",
   "execution_count": 19,
   "outputs": [
    {
     "name": "stdout",
     "output_type": "stream",
     "text": [
      "Odległość: CBOW 0.06412864476442337 \n",
      "Odległość: GRAM -0.052352435886859894 \n"
     ]
    }
   ],
   "source": [
    "# Przykład użycia odległości\n",
    "# Odległości\n",
    "print(f\"Odległość: CBOW {model1.wv.similarity('sample', '3')} \")\n",
    "      \n",
    "# Odległości\n",
    "print(f\"Odległość: GRAM {model2.wv.similarity('sample', 'script')} \")"
   ],
   "metadata": {
    "collapsed": false,
    "ExecuteTime": {
     "end_time": "2024-05-11T20:26:19.694296800Z",
     "start_time": "2024-05-11T20:26:19.663782700Z"
    }
   },
   "id": "f4f1e01af3fa3407"
  },
  {
   "cell_type": "code",
   "execution_count": 21,
   "outputs": [],
   "source": [
    "import chromadb\n",
    "chroma_client = chromadb.Client()\n",
    "# Zapisanie do kolekcji\n",
    "collection = chroma_client.create_collection(name=\"dupa\")"
   ],
   "metadata": {
    "collapsed": false,
    "ExecuteTime": {
     "end_time": "2024-05-11T21:41:42.369319100Z",
     "start_time": "2024-05-11T21:41:40.379889Z"
    }
   },
   "id": "9b3c0ef8e18141c3"
  },
  {
   "cell_type": "code",
   "execution_count": 26,
   "outputs": [],
   "source": [
    "# zapisanie pickel\n",
    "# Zapisanie modelu do pliku za pomocą Pickle\n",
    "with open(\"word2vec_model.pkl\", \"wb\") as f:\n",
    "    pickle.dump(model1, f)"
   ],
   "metadata": {
    "collapsed": false,
    "ExecuteTime": {
     "end_time": "2024-05-11T21:54:43.277633500Z",
     "start_time": "2024-05-11T21:54:43.262605600Z"
    }
   },
   "id": "d3b5c0c484e0092b"
  },
  {
   "cell_type": "code",
   "execution_count": 28,
   "outputs": [
    {
     "ename": "AttributeError",
     "evalue": "'Collection' object has no attribute 'insert_one'",
     "output_type": "error",
     "traceback": [
      "\u001B[1;31m---------------------------------------------------------------------------\u001B[0m",
      "\u001B[1;31mAttributeError\u001B[0m                            Traceback (most recent call last)",
      "Cell \u001B[1;32mIn[28], line 2\u001B[0m\n\u001B[0;32m      1\u001B[0m collection \u001B[38;5;241m=\u001B[39m chroma_client\u001B[38;5;241m.\u001B[39mcreate_collection(name\u001B[38;5;241m=\u001B[39m\u001B[38;5;124m\"\u001B[39m\u001B[38;5;124mword2vec_models\u001B[39m\u001B[38;5;124m\"\u001B[39m)\n\u001B[1;32m----> 2\u001B[0m \u001B[43mcollection\u001B[49m\u001B[38;5;241;43m.\u001B[39;49m\u001B[43minsert_one\u001B[49m({\u001B[38;5;124m\"\u001B[39m\u001B[38;5;124mmodel\u001B[39m\u001B[38;5;124m\"\u001B[39m: model_bytes})\n",
      "File \u001B[1;32mC:\\Program Files\\Python310\\lib\\site-packages\\pydantic\\main.py:767\u001B[0m, in \u001B[0;36mBaseModel.__getattr__\u001B[1;34m(self, item)\u001B[0m\n\u001B[0;32m    764\u001B[0m     \u001B[38;5;28;01mreturn\u001B[39;00m \u001B[38;5;28msuper\u001B[39m()\u001B[38;5;241m.\u001B[39m\u001B[38;5;21m__getattribute__\u001B[39m(item)  \u001B[38;5;66;03m# Raises AttributeError if appropriate\u001B[39;00m\n\u001B[0;32m    765\u001B[0m \u001B[38;5;28;01melse\u001B[39;00m:\n\u001B[0;32m    766\u001B[0m     \u001B[38;5;66;03m# this is the current error\u001B[39;00m\n\u001B[1;32m--> 767\u001B[0m     \u001B[38;5;28;01mraise\u001B[39;00m \u001B[38;5;167;01mAttributeError\u001B[39;00m(\u001B[38;5;124mf\u001B[39m\u001B[38;5;124m'\u001B[39m\u001B[38;5;132;01m{\u001B[39;00m\u001B[38;5;28mtype\u001B[39m(\u001B[38;5;28mself\u001B[39m)\u001B[38;5;241m.\u001B[39m\u001B[38;5;18m__name__\u001B[39m\u001B[38;5;132;01m!r}\u001B[39;00m\u001B[38;5;124m object has no attribute \u001B[39m\u001B[38;5;132;01m{\u001B[39;00mitem\u001B[38;5;132;01m!r}\u001B[39;00m\u001B[38;5;124m'\u001B[39m)\n",
      "\u001B[1;31mAttributeError\u001B[0m: 'Collection' object has no attribute 'insert_one'"
     ]
    }
   ],
   "source": [
    "collection = chroma_client.create_collection(name=\"word2vec_models\")\n",
    "collection.add({\"model\": model_bytes})"
   ],
   "metadata": {
    "collapsed": false,
    "ExecuteTime": {
     "end_time": "2024-05-11T21:55:32.070864600Z",
     "start_time": "2024-05-11T21:55:31.942928800Z"
    }
   },
   "id": "52c28a4bd97024ea"
  },
  {
   "cell_type": "code",
   "execution_count": null,
   "outputs": [],
   "source": [],
   "metadata": {
    "collapsed": false
   },
   "id": "d3d5e7b89c5eff08"
  }
 ],
 "metadata": {
  "kernelspec": {
   "display_name": "Python 3",
   "language": "python",
   "name": "python3"
  },
  "language_info": {
   "codemirror_mode": {
    "name": "ipython",
    "version": 2
   },
   "file_extension": ".py",
   "mimetype": "text/x-python",
   "name": "python",
   "nbconvert_exporter": "python",
   "pygments_lexer": "ipython2",
   "version": "2.7.6"
  }
 },
 "nbformat": 4,
 "nbformat_minor": 5
}
