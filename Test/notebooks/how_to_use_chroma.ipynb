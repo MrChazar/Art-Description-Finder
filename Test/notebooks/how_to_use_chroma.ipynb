{
 "cells": [
  {
   "cell_type": "code",
   "execution_count": 20,
   "id": "initial_id",
   "metadata": {
    "collapsed": true,
    "ExecuteTime": {
     "end_time": "2024-04-02T20:52:26.522544300Z",
     "start_time": "2024-04-02T20:52:26.506894300Z"
    }
   },
   "outputs": [],
   "source": [
    "import chromadb\n",
    "chroma_client = chromadb.Client()"
   ]
  },
  {
   "cell_type": "code",
   "execution_count": 21,
   "outputs": [],
   "source": [
    "# Creating collection\n",
    "collection = chroma_client.create_collection(name=\"my_collection\")"
   ],
   "metadata": {
    "collapsed": false,
    "ExecuteTime": {
     "end_time": "2024-04-02T20:52:45.293342Z",
     "start_time": "2024-04-02T20:52:45.230798300Z"
    }
   },
   "id": "27791e9a4b72ec9f"
  },
  {
   "cell_type": "code",
   "execution_count": 22,
   "outputs": [],
   "source": [
    "# Adding Data to collection\n",
    "collection.add(\n",
    "    documents=[\"This is a document\", \"This is another document\"],\n",
    "    metadatas=[{\"source\": \"my_source\"}, {\"source\": \"my_source\"}],\n",
    "    ids=[\"id1\", \"id2\"]\n",
    ")"
   ],
   "metadata": {
    "collapsed": false,
    "ExecuteTime": {
     "end_time": "2024-04-02T20:55:05.729217Z",
     "start_time": "2024-04-02T20:55:04.888960800Z"
    }
   },
   "id": "559f220dac05100f"
  },
  {
   "cell_type": "code",
   "execution_count": 25,
   "outputs": [
    {
     "data": {
      "text/plain": "{'ids': [['id1', 'id2']],\n 'distances': [[0.7111214399337769, 1.0109773874282837]],\n 'metadatas': [[{'source': 'my_source'}, {'source': 'my_source'}]],\n 'embeddings': None,\n 'documents': [['This is a document', 'This is another document']],\n 'uris': None,\n 'data': None}"
     },
     "execution_count": 25,
     "metadata": {},
     "output_type": "execute_result"
    }
   ],
   "source": [
    "# Querying data from collection\n",
    "results = collection.query(\n",
    "    query_texts=[\"This is a query document\"],\n",
    "    n_results=2\n",
    ")\n",
    "results"
   ],
   "metadata": {
    "collapsed": false,
    "ExecuteTime": {
     "end_time": "2024-04-02T20:55:37.039179Z",
     "start_time": "2024-04-02T20:55:36.944216800Z"
    }
   },
   "id": "c45bb8af8e00315b"
  },
  {
   "cell_type": "code",
   "execution_count": null,
   "outputs": [],
   "source": [],
   "metadata": {
    "collapsed": false
   },
   "id": "41e5b9a2cdd4bcb0"
  }
 ],
 "metadata": {
  "kernelspec": {
   "display_name": "Python 3",
   "language": "python",
   "name": "python3"
  },
  "language_info": {
   "codemirror_mode": {
    "name": "ipython",
    "version": 2
   },
   "file_extension": ".py",
   "mimetype": "text/x-python",
   "name": "python",
   "nbconvert_exporter": "python",
   "pygments_lexer": "ipython2",
   "version": "2.7.6"
  }
 },
 "nbformat": 4,
 "nbformat_minor": 5
}
