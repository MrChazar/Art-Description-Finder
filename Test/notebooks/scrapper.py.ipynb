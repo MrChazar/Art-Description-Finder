{
 "cells": [
  {
   "cell_type": "code",
   "execution_count": 11,
   "id": "initial_id",
   "metadata": {
    "collapsed": true,
    "ExecuteTime": {
     "end_time": "2024-05-15T22:00:54.187996Z",
     "start_time": "2024-05-15T22:00:54.149630500Z"
    }
   },
   "outputs": [],
   "source": [
    "import pandas as pd\n",
    "import numpy as np\n",
    "from bs4 import BeautifulSoup\n",
    "import requests\n",
    "import pickle "
   ]
  },
  {
   "cell_type": "code",
   "execution_count": 12,
   "outputs": [
    {
     "data": {
      "text/plain": "        IMDb_id                                                url  None  \\\n0     tt0111438  https://www.imdb.com/title/tt0111438/parentalg...  None   \n1     tt0349080  https://www.imdb.com/title/tt0349080/parentalg...  None   \n2     tt0088680  https://www.imdb.com/title/tt0088680/parentalg...  None   \n3     tt0066065  https://www.imdb.com/title/tt0066065/parentalg...  None   \n4     tt0065481  https://www.imdb.com/title/tt0065481/parentalg...  None   \n...         ...                                                ...   ...   \n5195  tt5727282  https://www.imdb.com/title/tt5727282/parentalg...  None   \n5196  tt0172493  https://www.imdb.com/title/tt0172493/parentalg...  None   \n5197  tt0120701  https://www.imdb.com/title/tt0120701/parentalg...  None   \n5198  tt1545106  https://www.imdb.com/title/tt1545106/parentalg...  None   \n5199  tt0112040  https://www.imdb.com/title/tt0112040/parentalg...  None   \n\n      Mild Moderate Severe  \n0     None     None   None  \n1     None     None   None  \n2     None     None   None  \n3     None     None   None  \n4     None     None   None  \n...    ...      ...    ...  \n5195  None     None   None  \n5196  None     None   None  \n5197  None     None   None  \n5198  None     None   None  \n5199  None     None   None  \n\n[5200 rows x 6 columns]",
      "text/html": "<div>\n<style scoped>\n    .dataframe tbody tr th:only-of-type {\n        vertical-align: middle;\n    }\n\n    .dataframe tbody tr th {\n        vertical-align: top;\n    }\n\n    .dataframe thead th {\n        text-align: right;\n    }\n</style>\n<table border=\"1\" class=\"dataframe\">\n  <thead>\n    <tr style=\"text-align: right;\">\n      <th></th>\n      <th>IMDb_id</th>\n      <th>url</th>\n      <th>None</th>\n      <th>Mild</th>\n      <th>Moderate</th>\n      <th>Severe</th>\n    </tr>\n  </thead>\n  <tbody>\n    <tr>\n      <th>0</th>\n      <td>tt0111438</td>\n      <td>https://www.imdb.com/title/tt0111438/parentalg...</td>\n      <td>None</td>\n      <td>None</td>\n      <td>None</td>\n      <td>None</td>\n    </tr>\n    <tr>\n      <th>1</th>\n      <td>tt0349080</td>\n      <td>https://www.imdb.com/title/tt0349080/parentalg...</td>\n      <td>None</td>\n      <td>None</td>\n      <td>None</td>\n      <td>None</td>\n    </tr>\n    <tr>\n      <th>2</th>\n      <td>tt0088680</td>\n      <td>https://www.imdb.com/title/tt0088680/parentalg...</td>\n      <td>None</td>\n      <td>None</td>\n      <td>None</td>\n      <td>None</td>\n    </tr>\n    <tr>\n      <th>3</th>\n      <td>tt0066065</td>\n      <td>https://www.imdb.com/title/tt0066065/parentalg...</td>\n      <td>None</td>\n      <td>None</td>\n      <td>None</td>\n      <td>None</td>\n    </tr>\n    <tr>\n      <th>4</th>\n      <td>tt0065481</td>\n      <td>https://www.imdb.com/title/tt0065481/parentalg...</td>\n      <td>None</td>\n      <td>None</td>\n      <td>None</td>\n      <td>None</td>\n    </tr>\n    <tr>\n      <th>...</th>\n      <td>...</td>\n      <td>...</td>\n      <td>...</td>\n      <td>...</td>\n      <td>...</td>\n      <td>...</td>\n    </tr>\n    <tr>\n      <th>5195</th>\n      <td>tt5727282</td>\n      <td>https://www.imdb.com/title/tt5727282/parentalg...</td>\n      <td>None</td>\n      <td>None</td>\n      <td>None</td>\n      <td>None</td>\n    </tr>\n    <tr>\n      <th>5196</th>\n      <td>tt0172493</td>\n      <td>https://www.imdb.com/title/tt0172493/parentalg...</td>\n      <td>None</td>\n      <td>None</td>\n      <td>None</td>\n      <td>None</td>\n    </tr>\n    <tr>\n      <th>5197</th>\n      <td>tt0120701</td>\n      <td>https://www.imdb.com/title/tt0120701/parentalg...</td>\n      <td>None</td>\n      <td>None</td>\n      <td>None</td>\n      <td>None</td>\n    </tr>\n    <tr>\n      <th>5198</th>\n      <td>tt1545106</td>\n      <td>https://www.imdb.com/title/tt1545106/parentalg...</td>\n      <td>None</td>\n      <td>None</td>\n      <td>None</td>\n      <td>None</td>\n    </tr>\n    <tr>\n      <th>5199</th>\n      <td>tt0112040</td>\n      <td>https://www.imdb.com/title/tt0112040/parentalg...</td>\n      <td>None</td>\n      <td>None</td>\n      <td>None</td>\n      <td>None</td>\n    </tr>\n  </tbody>\n</table>\n<p>5200 rows × 6 columns</p>\n</div>"
     },
     "execution_count": 12,
     "metadata": {},
     "output_type": "execute_result"
    }
   ],
   "source": [
    "data = pd.read_pickle('../data/data_pickle/nudity_train.pkl')\n",
    "data['url'] = data['severity_rating']\n",
    "data['None'] = None\n",
    "data['Mild'] = None\n",
    "data['Moderate'] = None\n",
    "data['Severe'] = None\n",
    "data = data.drop('severity_rating', axis=1)\n",
    "data"
   ],
   "metadata": {
    "collapsed": false,
    "ExecuteTime": {
     "end_time": "2024-05-15T22:00:54.434676200Z",
     "start_time": "2024-05-15T22:00:54.365089100Z"
    }
   },
   "id": "b9466640c13e673f"
  },
  {
   "cell_type": "code",
   "execution_count": 13,
   "outputs": [
    {
     "name": "stdout",
     "output_type": "stream",
     "text": [
      "Skończone pobieranie\n"
     ]
    }
   ],
   "source": [
    "capacity = 1000\n",
    "number = 0\n",
    "for imdb, url in zip(data['IMDb_id'], data['url'], ):\n",
    "    number += 1\n",
    "    response = requests.get(url)\n",
    "    soup = BeautifulSoup(response.text, 'html.parser')\n",
    "    # Gdy chcemy pobrać jakąś z cech to sprawdzamy jak na stronie to się nazywa najczęściej ma to format advisory-{emocja-rzecz} np: advisory-violence\n",
    "    section = soup.find(id='advisory-nudity')\n",
    "    # Znalezienie wszystkich <span> o klasie 'ipl-vote-button__details' w tej sekcji\n",
    "    spans = section.find_all('span', class_='ipl-vote-button__details')\n",
    "    if len(spans) >= 4:\n",
    "        data['None'] = np.where(data['IMDb_id'] == imdb, spans[0].text, data['None'])\n",
    "        data['Mild'] = np.where(data['IMDb_id'] == imdb, spans[1].text, data['Mild'])\n",
    "        data['Moderate'] = np.where(data['IMDb_id'] == imdb, spans[2].text, data['Moderate'])\n",
    "        data['Severe'] = np.where(data['IMDb_id'] == imdb, spans[3].text, data['Severe'])\n",
    "    if number == capacity:\n",
    "        break\n",
    "print(\"Skończone pobieranie\")"
   ],
   "metadata": {
    "collapsed": false,
    "ExecuteTime": {
     "end_time": "2024-05-15T22:17:05.213095Z",
     "start_time": "2024-05-15T22:00:54.544937200Z"
    }
   },
   "id": "c77c19eaeefd7a22"
  },
  {
   "cell_type": "code",
   "execution_count": 14,
   "outputs": [
    {
     "data": {
      "text/plain": "        IMDb_id                                                url  None  \\\n0     tt0111438  https://www.imdb.com/title/tt0111438/parentalg...     2   \n1     tt0349080  https://www.imdb.com/title/tt0349080/parentalg...     5   \n2     tt0088680  https://www.imdb.com/title/tt0088680/parentalg...    11   \n3     tt0066065  https://www.imdb.com/title/tt0066065/parentalg...     3   \n4     tt0065481  https://www.imdb.com/title/tt0065481/parentalg...     0   \n...         ...                                                ...   ...   \n5195  tt5727282  https://www.imdb.com/title/tt5727282/parentalg...  None   \n5196  tt0172493  https://www.imdb.com/title/tt0172493/parentalg...  None   \n5197  tt0120701  https://www.imdb.com/title/tt0120701/parentalg...  None   \n5198  tt1545106  https://www.imdb.com/title/tt1545106/parentalg...  None   \n5199  tt0112040  https://www.imdb.com/title/tt0112040/parentalg...  None   \n\n      Mild Moderate Severe  \n0       14       20     17  \n1        4        6     59  \n2       47       50     15  \n3        4        0      0  \n4        5        6      0  \n...    ...      ...    ...  \n5195  None     None   None  \n5196  None     None   None  \n5197  None     None   None  \n5198  None     None   None  \n5199  None     None   None  \n\n[5200 rows x 6 columns]",
      "text/html": "<div>\n<style scoped>\n    .dataframe tbody tr th:only-of-type {\n        vertical-align: middle;\n    }\n\n    .dataframe tbody tr th {\n        vertical-align: top;\n    }\n\n    .dataframe thead th {\n        text-align: right;\n    }\n</style>\n<table border=\"1\" class=\"dataframe\">\n  <thead>\n    <tr style=\"text-align: right;\">\n      <th></th>\n      <th>IMDb_id</th>\n      <th>url</th>\n      <th>None</th>\n      <th>Mild</th>\n      <th>Moderate</th>\n      <th>Severe</th>\n    </tr>\n  </thead>\n  <tbody>\n    <tr>\n      <th>0</th>\n      <td>tt0111438</td>\n      <td>https://www.imdb.com/title/tt0111438/parentalg...</td>\n      <td>2</td>\n      <td>14</td>\n      <td>20</td>\n      <td>17</td>\n    </tr>\n    <tr>\n      <th>1</th>\n      <td>tt0349080</td>\n      <td>https://www.imdb.com/title/tt0349080/parentalg...</td>\n      <td>5</td>\n      <td>4</td>\n      <td>6</td>\n      <td>59</td>\n    </tr>\n    <tr>\n      <th>2</th>\n      <td>tt0088680</td>\n      <td>https://www.imdb.com/title/tt0088680/parentalg...</td>\n      <td>11</td>\n      <td>47</td>\n      <td>50</td>\n      <td>15</td>\n    </tr>\n    <tr>\n      <th>3</th>\n      <td>tt0066065</td>\n      <td>https://www.imdb.com/title/tt0066065/parentalg...</td>\n      <td>3</td>\n      <td>4</td>\n      <td>0</td>\n      <td>0</td>\n    </tr>\n    <tr>\n      <th>4</th>\n      <td>tt0065481</td>\n      <td>https://www.imdb.com/title/tt0065481/parentalg...</td>\n      <td>0</td>\n      <td>5</td>\n      <td>6</td>\n      <td>0</td>\n    </tr>\n    <tr>\n      <th>...</th>\n      <td>...</td>\n      <td>...</td>\n      <td>...</td>\n      <td>...</td>\n      <td>...</td>\n      <td>...</td>\n    </tr>\n    <tr>\n      <th>5195</th>\n      <td>tt5727282</td>\n      <td>https://www.imdb.com/title/tt5727282/parentalg...</td>\n      <td>None</td>\n      <td>None</td>\n      <td>None</td>\n      <td>None</td>\n    </tr>\n    <tr>\n      <th>5196</th>\n      <td>tt0172493</td>\n      <td>https://www.imdb.com/title/tt0172493/parentalg...</td>\n      <td>None</td>\n      <td>None</td>\n      <td>None</td>\n      <td>None</td>\n    </tr>\n    <tr>\n      <th>5197</th>\n      <td>tt0120701</td>\n      <td>https://www.imdb.com/title/tt0120701/parentalg...</td>\n      <td>None</td>\n      <td>None</td>\n      <td>None</td>\n      <td>None</td>\n    </tr>\n    <tr>\n      <th>5198</th>\n      <td>tt1545106</td>\n      <td>https://www.imdb.com/title/tt1545106/parentalg...</td>\n      <td>None</td>\n      <td>None</td>\n      <td>None</td>\n      <td>None</td>\n    </tr>\n    <tr>\n      <th>5199</th>\n      <td>tt0112040</td>\n      <td>https://www.imdb.com/title/tt0112040/parentalg...</td>\n      <td>None</td>\n      <td>None</td>\n      <td>None</td>\n      <td>None</td>\n    </tr>\n  </tbody>\n</table>\n<p>5200 rows × 6 columns</p>\n</div>"
     },
     "execution_count": 14,
     "metadata": {},
     "output_type": "execute_result"
    }
   ],
   "source": [
    "data"
   ],
   "metadata": {
    "collapsed": false,
    "ExecuteTime": {
     "end_time": "2024-05-15T22:17:05.321654200Z",
     "start_time": "2024-05-15T22:17:05.259940600Z"
    }
   },
   "id": "9584197e6d4b8e60"
  },
  {
   "cell_type": "code",
   "execution_count": 15,
   "outputs": [],
   "source": [
    "# Zapisanie do pikla\n",
    "with open(\"../notebooks/training_pkl/nudity_train.pkl\", \"wb\") as f:\n",
    "    pickle.dump(data, f)"
   ],
   "metadata": {
    "collapsed": false,
    "ExecuteTime": {
     "end_time": "2024-05-15T22:17:05.338508300Z",
     "start_time": "2024-05-15T22:17:05.278569500Z"
    }
   },
   "id": "62118057b2873a8b"
  },
  {
   "cell_type": "code",
   "execution_count": 16,
   "outputs": [
    {
     "data": {
      "text/plain": "        IMDb_id                                                url  None  \\\n0     tt0111438  https://www.imdb.com/title/tt0111438/parentalg...     2   \n1     tt0349080  https://www.imdb.com/title/tt0349080/parentalg...     5   \n2     tt0088680  https://www.imdb.com/title/tt0088680/parentalg...    11   \n3     tt0066065  https://www.imdb.com/title/tt0066065/parentalg...     3   \n4     tt0065481  https://www.imdb.com/title/tt0065481/parentalg...     0   \n...         ...                                                ...   ...   \n5195  tt5727282  https://www.imdb.com/title/tt5727282/parentalg...  None   \n5196  tt0172493  https://www.imdb.com/title/tt0172493/parentalg...  None   \n5197  tt0120701  https://www.imdb.com/title/tt0120701/parentalg...  None   \n5198  tt1545106  https://www.imdb.com/title/tt1545106/parentalg...  None   \n5199  tt0112040  https://www.imdb.com/title/tt0112040/parentalg...  None   \n\n      Mild Moderate Severe  \n0       14       20     17  \n1        4        6     59  \n2       47       50     15  \n3        4        0      0  \n4        5        6      0  \n...    ...      ...    ...  \n5195  None     None   None  \n5196  None     None   None  \n5197  None     None   None  \n5198  None     None   None  \n5199  None     None   None  \n\n[5200 rows x 6 columns]",
      "text/html": "<div>\n<style scoped>\n    .dataframe tbody tr th:only-of-type {\n        vertical-align: middle;\n    }\n\n    .dataframe tbody tr th {\n        vertical-align: top;\n    }\n\n    .dataframe thead th {\n        text-align: right;\n    }\n</style>\n<table border=\"1\" class=\"dataframe\">\n  <thead>\n    <tr style=\"text-align: right;\">\n      <th></th>\n      <th>IMDb_id</th>\n      <th>url</th>\n      <th>None</th>\n      <th>Mild</th>\n      <th>Moderate</th>\n      <th>Severe</th>\n    </tr>\n  </thead>\n  <tbody>\n    <tr>\n      <th>0</th>\n      <td>tt0111438</td>\n      <td>https://www.imdb.com/title/tt0111438/parentalg...</td>\n      <td>2</td>\n      <td>14</td>\n      <td>20</td>\n      <td>17</td>\n    </tr>\n    <tr>\n      <th>1</th>\n      <td>tt0349080</td>\n      <td>https://www.imdb.com/title/tt0349080/parentalg...</td>\n      <td>5</td>\n      <td>4</td>\n      <td>6</td>\n      <td>59</td>\n    </tr>\n    <tr>\n      <th>2</th>\n      <td>tt0088680</td>\n      <td>https://www.imdb.com/title/tt0088680/parentalg...</td>\n      <td>11</td>\n      <td>47</td>\n      <td>50</td>\n      <td>15</td>\n    </tr>\n    <tr>\n      <th>3</th>\n      <td>tt0066065</td>\n      <td>https://www.imdb.com/title/tt0066065/parentalg...</td>\n      <td>3</td>\n      <td>4</td>\n      <td>0</td>\n      <td>0</td>\n    </tr>\n    <tr>\n      <th>4</th>\n      <td>tt0065481</td>\n      <td>https://www.imdb.com/title/tt0065481/parentalg...</td>\n      <td>0</td>\n      <td>5</td>\n      <td>6</td>\n      <td>0</td>\n    </tr>\n    <tr>\n      <th>...</th>\n      <td>...</td>\n      <td>...</td>\n      <td>...</td>\n      <td>...</td>\n      <td>...</td>\n      <td>...</td>\n    </tr>\n    <tr>\n      <th>5195</th>\n      <td>tt5727282</td>\n      <td>https://www.imdb.com/title/tt5727282/parentalg...</td>\n      <td>None</td>\n      <td>None</td>\n      <td>None</td>\n      <td>None</td>\n    </tr>\n    <tr>\n      <th>5196</th>\n      <td>tt0172493</td>\n      <td>https://www.imdb.com/title/tt0172493/parentalg...</td>\n      <td>None</td>\n      <td>None</td>\n      <td>None</td>\n      <td>None</td>\n    </tr>\n    <tr>\n      <th>5197</th>\n      <td>tt0120701</td>\n      <td>https://www.imdb.com/title/tt0120701/parentalg...</td>\n      <td>None</td>\n      <td>None</td>\n      <td>None</td>\n      <td>None</td>\n    </tr>\n    <tr>\n      <th>5198</th>\n      <td>tt1545106</td>\n      <td>https://www.imdb.com/title/tt1545106/parentalg...</td>\n      <td>None</td>\n      <td>None</td>\n      <td>None</td>\n      <td>None</td>\n    </tr>\n    <tr>\n      <th>5199</th>\n      <td>tt0112040</td>\n      <td>https://www.imdb.com/title/tt0112040/parentalg...</td>\n      <td>None</td>\n      <td>None</td>\n      <td>None</td>\n      <td>None</td>\n    </tr>\n  </tbody>\n</table>\n<p>5200 rows × 6 columns</p>\n</div>"
     },
     "execution_count": 16,
     "metadata": {},
     "output_type": "execute_result"
    }
   ],
   "source": [
    "data = pd.read_pickle(\"training_pkl/nudity_train.pkl\")\n",
    "data"
   ],
   "metadata": {
    "collapsed": false,
    "ExecuteTime": {
     "end_time": "2024-05-15T22:17:05.341512200Z",
     "start_time": "2024-05-15T22:17:05.291578100Z"
    }
   },
   "id": "5b2da55ea47eb7e1"
  }
 ],
 "metadata": {
  "kernelspec": {
   "display_name": "Python 3",
   "language": "python",
   "name": "python3"
  },
  "language_info": {
   "codemirror_mode": {
    "name": "ipython",
    "version": 2
   },
   "file_extension": ".py",
   "mimetype": "text/x-python",
   "name": "python",
   "nbconvert_exporter": "python",
   "pygments_lexer": "ipython2",
   "version": "2.7.6"
  }
 },
 "nbformat": 4,
 "nbformat_minor": 5
}
