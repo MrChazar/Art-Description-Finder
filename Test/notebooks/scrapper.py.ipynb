{
 "cells": [
  {
   "cell_type": "code",
   "execution_count": 11,
   "id": "initial_id",
   "metadata": {
    "collapsed": true,
    "ExecuteTime": {
     "end_time": "2024-05-22T19:44:23.615712500Z",
     "start_time": "2024-05-22T19:44:23.584603Z"
    }
   },
   "outputs": [],
   "source": [
    "import pandas as pd\n",
    "import numpy as np\n",
    "from bs4 import BeautifulSoup\n",
    "import requests\n",
    "import pickle "
   ]
  },
  {
   "cell_type": "code",
   "execution_count": 25,
   "outputs": [
    {
     "name": "stdout",
     "output_type": "stream",
     "text": [
      "       IMDb_id                                    severity_rating\n",
      "0    tt0057590  https://www.imdb.com/title/tt0057590/parentalg...\n",
      "1    tt4701724  https://www.imdb.com/title/tt4701724/parentalg...\n",
      "2    tt0163988  https://www.imdb.com/title/tt0163988/parentalg...\n",
      "3    tt2308733  https://www.imdb.com/title/tt2308733/parentalg...\n",
      "4    tt0362269  https://www.imdb.com/title/tt0362269/parentalg...\n",
      "..         ...                                                ...\n",
      "438  tt0025878  https://www.imdb.com/title/tt0025878/parentalg...\n",
      "439  tt2452386  https://www.imdb.com/title/tt2452386/parentalg...\n",
      "440  tt0268126  https://www.imdb.com/title/tt0268126/parentalg...\n",
      "441  tt4834220  https://www.imdb.com/title/tt4834220/parentalg...\n",
      "442  tt0053285  https://www.imdb.com/title/tt0053285/parentalg...\n",
      "\n",
      "[443 rows x 2 columns]\n"
     ]
    },
    {
     "data": {
      "text/plain": "       IMDb_id                                                url  None  Mild  \\\n0    tt0057590  https://www.imdb.com/title/tt0057590/parentalg...  None  None   \n1    tt4701724  https://www.imdb.com/title/tt4701724/parentalg...  None  None   \n2    tt0163988  https://www.imdb.com/title/tt0163988/parentalg...  None  None   \n3    tt2308733  https://www.imdb.com/title/tt2308733/parentalg...  None  None   \n4    tt0362269  https://www.imdb.com/title/tt0362269/parentalg...  None  None   \n..         ...                                                ...   ...   ...   \n438  tt0025878  https://www.imdb.com/title/tt0025878/parentalg...  None  None   \n439  tt2452386  https://www.imdb.com/title/tt2452386/parentalg...  None  None   \n440  tt0268126  https://www.imdb.com/title/tt0268126/parentalg...  None  None   \n441  tt4834220  https://www.imdb.com/title/tt4834220/parentalg...  None  None   \n442  tt0053285  https://www.imdb.com/title/tt0053285/parentalg...  None  None   \n\n    Moderate Severe  \n0       None   None  \n1       None   None  \n2       None   None  \n3       None   None  \n4       None   None  \n..       ...    ...  \n438     None   None  \n439     None   None  \n440     None   None  \n441     None   None  \n442     None   None  \n\n[443 rows x 6 columns]",
      "text/html": "<div>\n<style scoped>\n    .dataframe tbody tr th:only-of-type {\n        vertical-align: middle;\n    }\n\n    .dataframe tbody tr th {\n        vertical-align: top;\n    }\n\n    .dataframe thead th {\n        text-align: right;\n    }\n</style>\n<table border=\"1\" class=\"dataframe\">\n  <thead>\n    <tr style=\"text-align: right;\">\n      <th></th>\n      <th>IMDb_id</th>\n      <th>url</th>\n      <th>None</th>\n      <th>Mild</th>\n      <th>Moderate</th>\n      <th>Severe</th>\n    </tr>\n  </thead>\n  <tbody>\n    <tr>\n      <th>0</th>\n      <td>tt0057590</td>\n      <td>https://www.imdb.com/title/tt0057590/parentalg...</td>\n      <td>None</td>\n      <td>None</td>\n      <td>None</td>\n      <td>None</td>\n    </tr>\n    <tr>\n      <th>1</th>\n      <td>tt4701724</td>\n      <td>https://www.imdb.com/title/tt4701724/parentalg...</td>\n      <td>None</td>\n      <td>None</td>\n      <td>None</td>\n      <td>None</td>\n    </tr>\n    <tr>\n      <th>2</th>\n      <td>tt0163988</td>\n      <td>https://www.imdb.com/title/tt0163988/parentalg...</td>\n      <td>None</td>\n      <td>None</td>\n      <td>None</td>\n      <td>None</td>\n    </tr>\n    <tr>\n      <th>3</th>\n      <td>tt2308733</td>\n      <td>https://www.imdb.com/title/tt2308733/parentalg...</td>\n      <td>None</td>\n      <td>None</td>\n      <td>None</td>\n      <td>None</td>\n    </tr>\n    <tr>\n      <th>4</th>\n      <td>tt0362269</td>\n      <td>https://www.imdb.com/title/tt0362269/parentalg...</td>\n      <td>None</td>\n      <td>None</td>\n      <td>None</td>\n      <td>None</td>\n    </tr>\n    <tr>\n      <th>...</th>\n      <td>...</td>\n      <td>...</td>\n      <td>...</td>\n      <td>...</td>\n      <td>...</td>\n      <td>...</td>\n    </tr>\n    <tr>\n      <th>438</th>\n      <td>tt0025878</td>\n      <td>https://www.imdb.com/title/tt0025878/parentalg...</td>\n      <td>None</td>\n      <td>None</td>\n      <td>None</td>\n      <td>None</td>\n    </tr>\n    <tr>\n      <th>439</th>\n      <td>tt2452386</td>\n      <td>https://www.imdb.com/title/tt2452386/parentalg...</td>\n      <td>None</td>\n      <td>None</td>\n      <td>None</td>\n      <td>None</td>\n    </tr>\n    <tr>\n      <th>440</th>\n      <td>tt0268126</td>\n      <td>https://www.imdb.com/title/tt0268126/parentalg...</td>\n      <td>None</td>\n      <td>None</td>\n      <td>None</td>\n      <td>None</td>\n    </tr>\n    <tr>\n      <th>441</th>\n      <td>tt4834220</td>\n      <td>https://www.imdb.com/title/tt4834220/parentalg...</td>\n      <td>None</td>\n      <td>None</td>\n      <td>None</td>\n      <td>None</td>\n    </tr>\n    <tr>\n      <th>442</th>\n      <td>tt0053285</td>\n      <td>https://www.imdb.com/title/tt0053285/parentalg...</td>\n      <td>None</td>\n      <td>None</td>\n      <td>None</td>\n      <td>None</td>\n    </tr>\n  </tbody>\n</table>\n<p>443 rows × 6 columns</p>\n</div>"
     },
     "execution_count": 25,
     "metadata": {},
     "output_type": "execute_result"
    }
   ],
   "source": [
    "capacity = 1000\n",
    "filename = 'alcohol_test'\n",
    "data = pd.read_pickle(f'../data/data_pickle/{filename}.pkl')\n",
    "if len(data) > 1000:\n",
    "    data = data.head(capacity)\n",
    "print(data)\n",
    "data['url'] = data['severity_rating']\n",
    "data['None'] = None\n",
    "data['Mild'] = None\n",
    "data['Moderate'] = None\n",
    "data['Severe'] = None\n",
    "data = data.drop('severity_rating', axis=1)\n",
    "data"
   ],
   "metadata": {
    "collapsed": false,
    "ExecuteTime": {
     "end_time": "2024-05-22T20:41:36.655973100Z",
     "start_time": "2024-05-22T20:41:36.596159600Z"
    }
   },
   "id": "b9466640c13e673f"
  },
  {
   "cell_type": "code",
   "execution_count": 26,
   "outputs": [
    {
     "name": "stdout",
     "output_type": "stream",
     "text": [
      "Skończone pobieranie\n"
     ]
    }
   ],
   "source": [
    "number = 0\n",
    "for imdb, url in zip(data['IMDb_id'], data['url'], ):\n",
    "    number += 1\n",
    "    response = requests.get(url)\n",
    "    soup = BeautifulSoup(response.text, 'html.parser')\n",
    "    # Gdy chcemy pobrać jakąś z cech to sprawdzamy jak na stronie to się nazywa najczęściej ma to format advisory-{emocja-rzecz} np: advisory-violence\n",
    "    section = soup.find(id='advisory-nudity')\n",
    "    # Znalezienie wszystkich <span> o klasie 'ipl-vote-button__details' w tej sekcji\n",
    "    spans = section.find_all('span', class_='ipl-vote-button__details')\n",
    "    if len(spans) >= 4:\n",
    "        data['None'] = np.where(data['IMDb_id'] == imdb, spans[0].text, data['None'])\n",
    "        data['Mild'] = np.where(data['IMDb_id'] == imdb, spans[1].text, data['Mild'])\n",
    "        data['Moderate'] = np.where(data['IMDb_id'] == imdb, spans[2].text, data['Moderate'])\n",
    "        data['Severe'] = np.where(data['IMDb_id'] == imdb, spans[3].text, data['Severe'])\n",
    "    if number == capacity:\n",
    "        break\n",
    "print(\"Skończone pobieranie\")"
   ],
   "metadata": {
    "collapsed": false,
    "ExecuteTime": {
     "end_time": "2024-05-22T20:49:13.665930400Z",
     "start_time": "2024-05-22T20:41:37.071137100Z"
    }
   },
   "id": "c77c19eaeefd7a22"
  },
  {
   "cell_type": "code",
   "execution_count": 27,
   "outputs": [
    {
     "data": {
      "text/plain": "       IMDb_id                                                url None Mild  \\\n0    tt0057590  https://www.imdb.com/title/tt0057590/parentalg...    7    8   \n1    tt4701724  https://www.imdb.com/title/tt4701724/parentalg...   29   11   \n2    tt0163988  https://www.imdb.com/title/tt0163988/parentalg...   25   17   \n3    tt2308733  https://www.imdb.com/title/tt2308733/parentalg...   15    6   \n4    tt0362269  https://www.imdb.com/title/tt0362269/parentalg...    3    2   \n..         ...                                                ...  ...  ...   \n438  tt0025878  https://www.imdb.com/title/tt0025878/parentalg...   12    2   \n439  tt2452386  https://www.imdb.com/title/tt2452386/parentalg...   22   31   \n440  tt0268126  https://www.imdb.com/title/tt0268126/parentalg...    7   14   \n441  tt4834220  https://www.imdb.com/title/tt4834220/parentalg...    3    2   \n442  tt0053285  https://www.imdb.com/title/tt0053285/parentalg...   45    2   \n\n    Moderate Severe  \n0          5      0  \n1          1      5  \n2          4      1  \n3          1     10  \n4          6     24  \n..       ...    ...  \n438        0      0  \n439        6      1  \n440       31     11  \n441        2      0  \n442        0      3  \n\n[443 rows x 6 columns]",
      "text/html": "<div>\n<style scoped>\n    .dataframe tbody tr th:only-of-type {\n        vertical-align: middle;\n    }\n\n    .dataframe tbody tr th {\n        vertical-align: top;\n    }\n\n    .dataframe thead th {\n        text-align: right;\n    }\n</style>\n<table border=\"1\" class=\"dataframe\">\n  <thead>\n    <tr style=\"text-align: right;\">\n      <th></th>\n      <th>IMDb_id</th>\n      <th>url</th>\n      <th>None</th>\n      <th>Mild</th>\n      <th>Moderate</th>\n      <th>Severe</th>\n    </tr>\n  </thead>\n  <tbody>\n    <tr>\n      <th>0</th>\n      <td>tt0057590</td>\n      <td>https://www.imdb.com/title/tt0057590/parentalg...</td>\n      <td>7</td>\n      <td>8</td>\n      <td>5</td>\n      <td>0</td>\n    </tr>\n    <tr>\n      <th>1</th>\n      <td>tt4701724</td>\n      <td>https://www.imdb.com/title/tt4701724/parentalg...</td>\n      <td>29</td>\n      <td>11</td>\n      <td>1</td>\n      <td>5</td>\n    </tr>\n    <tr>\n      <th>2</th>\n      <td>tt0163988</td>\n      <td>https://www.imdb.com/title/tt0163988/parentalg...</td>\n      <td>25</td>\n      <td>17</td>\n      <td>4</td>\n      <td>1</td>\n    </tr>\n    <tr>\n      <th>3</th>\n      <td>tt2308733</td>\n      <td>https://www.imdb.com/title/tt2308733/parentalg...</td>\n      <td>15</td>\n      <td>6</td>\n      <td>1</td>\n      <td>10</td>\n    </tr>\n    <tr>\n      <th>4</th>\n      <td>tt0362269</td>\n      <td>https://www.imdb.com/title/tt0362269/parentalg...</td>\n      <td>3</td>\n      <td>2</td>\n      <td>6</td>\n      <td>24</td>\n    </tr>\n    <tr>\n      <th>...</th>\n      <td>...</td>\n      <td>...</td>\n      <td>...</td>\n      <td>...</td>\n      <td>...</td>\n      <td>...</td>\n    </tr>\n    <tr>\n      <th>438</th>\n      <td>tt0025878</td>\n      <td>https://www.imdb.com/title/tt0025878/parentalg...</td>\n      <td>12</td>\n      <td>2</td>\n      <td>0</td>\n      <td>0</td>\n    </tr>\n    <tr>\n      <th>439</th>\n      <td>tt2452386</td>\n      <td>https://www.imdb.com/title/tt2452386/parentalg...</td>\n      <td>22</td>\n      <td>31</td>\n      <td>6</td>\n      <td>1</td>\n    </tr>\n    <tr>\n      <th>440</th>\n      <td>tt0268126</td>\n      <td>https://www.imdb.com/title/tt0268126/parentalg...</td>\n      <td>7</td>\n      <td>14</td>\n      <td>31</td>\n      <td>11</td>\n    </tr>\n    <tr>\n      <th>441</th>\n      <td>tt4834220</td>\n      <td>https://www.imdb.com/title/tt4834220/parentalg...</td>\n      <td>3</td>\n      <td>2</td>\n      <td>2</td>\n      <td>0</td>\n    </tr>\n    <tr>\n      <th>442</th>\n      <td>tt0053285</td>\n      <td>https://www.imdb.com/title/tt0053285/parentalg...</td>\n      <td>45</td>\n      <td>2</td>\n      <td>0</td>\n      <td>3</td>\n    </tr>\n  </tbody>\n</table>\n<p>443 rows × 6 columns</p>\n</div>"
     },
     "execution_count": 27,
     "metadata": {},
     "output_type": "execute_result"
    }
   ],
   "source": [
    "data"
   ],
   "metadata": {
    "collapsed": false,
    "ExecuteTime": {
     "end_time": "2024-05-22T20:49:13.710932200Z",
     "start_time": "2024-05-22T20:49:13.667933900Z"
    }
   },
   "id": "9584197e6d4b8e60"
  },
  {
   "cell_type": "code",
   "execution_count": 28,
   "outputs": [],
   "source": [
    "# Zapisanie do pikla\n",
    "with open(f\"../notebooks/training_pkl/{filename}{capacity}.pkl\", \"wb\") as f:\n",
    "    pickle.dump(data, f)"
   ],
   "metadata": {
    "collapsed": false,
    "ExecuteTime": {
     "end_time": "2024-05-22T20:49:13.820382500Z",
     "start_time": "2024-05-22T20:49:13.681932300Z"
    }
   },
   "id": "62118057b2873a8b"
  },
  {
   "cell_type": "code",
   "execution_count": 29,
   "outputs": [
    {
     "data": {
      "text/plain": "       IMDb_id                                                url None Mild  \\\n0    tt0057590  https://www.imdb.com/title/tt0057590/parentalg...    7    8   \n1    tt4701724  https://www.imdb.com/title/tt4701724/parentalg...   29   11   \n2    tt0163988  https://www.imdb.com/title/tt0163988/parentalg...   25   17   \n3    tt2308733  https://www.imdb.com/title/tt2308733/parentalg...   15    6   \n4    tt0362269  https://www.imdb.com/title/tt0362269/parentalg...    3    2   \n..         ...                                                ...  ...  ...   \n438  tt0025878  https://www.imdb.com/title/tt0025878/parentalg...   12    2   \n439  tt2452386  https://www.imdb.com/title/tt2452386/parentalg...   22   31   \n440  tt0268126  https://www.imdb.com/title/tt0268126/parentalg...    7   14   \n441  tt4834220  https://www.imdb.com/title/tt4834220/parentalg...    3    2   \n442  tt0053285  https://www.imdb.com/title/tt0053285/parentalg...   45    2   \n\n    Moderate Severe  \n0          5      0  \n1          1      5  \n2          4      1  \n3          1     10  \n4          6     24  \n..       ...    ...  \n438        0      0  \n439        6      1  \n440       31     11  \n441        2      0  \n442        0      3  \n\n[443 rows x 6 columns]",
      "text/html": "<div>\n<style scoped>\n    .dataframe tbody tr th:only-of-type {\n        vertical-align: middle;\n    }\n\n    .dataframe tbody tr th {\n        vertical-align: top;\n    }\n\n    .dataframe thead th {\n        text-align: right;\n    }\n</style>\n<table border=\"1\" class=\"dataframe\">\n  <thead>\n    <tr style=\"text-align: right;\">\n      <th></th>\n      <th>IMDb_id</th>\n      <th>url</th>\n      <th>None</th>\n      <th>Mild</th>\n      <th>Moderate</th>\n      <th>Severe</th>\n    </tr>\n  </thead>\n  <tbody>\n    <tr>\n      <th>0</th>\n      <td>tt0057590</td>\n      <td>https://www.imdb.com/title/tt0057590/parentalg...</td>\n      <td>7</td>\n      <td>8</td>\n      <td>5</td>\n      <td>0</td>\n    </tr>\n    <tr>\n      <th>1</th>\n      <td>tt4701724</td>\n      <td>https://www.imdb.com/title/tt4701724/parentalg...</td>\n      <td>29</td>\n      <td>11</td>\n      <td>1</td>\n      <td>5</td>\n    </tr>\n    <tr>\n      <th>2</th>\n      <td>tt0163988</td>\n      <td>https://www.imdb.com/title/tt0163988/parentalg...</td>\n      <td>25</td>\n      <td>17</td>\n      <td>4</td>\n      <td>1</td>\n    </tr>\n    <tr>\n      <th>3</th>\n      <td>tt2308733</td>\n      <td>https://www.imdb.com/title/tt2308733/parentalg...</td>\n      <td>15</td>\n      <td>6</td>\n      <td>1</td>\n      <td>10</td>\n    </tr>\n    <tr>\n      <th>4</th>\n      <td>tt0362269</td>\n      <td>https://www.imdb.com/title/tt0362269/parentalg...</td>\n      <td>3</td>\n      <td>2</td>\n      <td>6</td>\n      <td>24</td>\n    </tr>\n    <tr>\n      <th>...</th>\n      <td>...</td>\n      <td>...</td>\n      <td>...</td>\n      <td>...</td>\n      <td>...</td>\n      <td>...</td>\n    </tr>\n    <tr>\n      <th>438</th>\n      <td>tt0025878</td>\n      <td>https://www.imdb.com/title/tt0025878/parentalg...</td>\n      <td>12</td>\n      <td>2</td>\n      <td>0</td>\n      <td>0</td>\n    </tr>\n    <tr>\n      <th>439</th>\n      <td>tt2452386</td>\n      <td>https://www.imdb.com/title/tt2452386/parentalg...</td>\n      <td>22</td>\n      <td>31</td>\n      <td>6</td>\n      <td>1</td>\n    </tr>\n    <tr>\n      <th>440</th>\n      <td>tt0268126</td>\n      <td>https://www.imdb.com/title/tt0268126/parentalg...</td>\n      <td>7</td>\n      <td>14</td>\n      <td>31</td>\n      <td>11</td>\n    </tr>\n    <tr>\n      <th>441</th>\n      <td>tt4834220</td>\n      <td>https://www.imdb.com/title/tt4834220/parentalg...</td>\n      <td>3</td>\n      <td>2</td>\n      <td>2</td>\n      <td>0</td>\n    </tr>\n    <tr>\n      <th>442</th>\n      <td>tt0053285</td>\n      <td>https://www.imdb.com/title/tt0053285/parentalg...</td>\n      <td>45</td>\n      <td>2</td>\n      <td>0</td>\n      <td>3</td>\n    </tr>\n  </tbody>\n</table>\n<p>443 rows × 6 columns</p>\n</div>"
     },
     "execution_count": 29,
     "metadata": {},
     "output_type": "execute_result"
    }
   ],
   "source": [
    "data = pd.read_pickle(f\"training_pkl/{filename}{capacity}.pkl\")\n",
    "data"
   ],
   "metadata": {
    "collapsed": false,
    "ExecuteTime": {
     "end_time": "2024-05-22T20:49:13.896308600Z",
     "start_time": "2024-05-22T20:49:13.718203800Z"
    }
   },
   "id": "5b2da55ea47eb7e1"
  },
  {
   "cell_type": "code",
   "execution_count": null,
   "outputs": [],
   "source": [],
   "metadata": {
    "collapsed": false
   },
   "id": "d9735719b68bc893"
  }
 ],
 "metadata": {
  "kernelspec": {
   "display_name": "Python 3",
   "language": "python",
   "name": "python3"
  },
  "language_info": {
   "codemirror_mode": {
    "name": "ipython",
    "version": 2
   },
   "file_extension": ".py",
   "mimetype": "text/x-python",
   "name": "python",
   "nbconvert_exporter": "python",
   "pygments_lexer": "ipython2",
   "version": "2.7.6"
  }
 },
 "nbformat": 4,
 "nbformat_minor": 5
}
