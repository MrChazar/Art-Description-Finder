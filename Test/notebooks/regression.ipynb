{
 "cells": [
  {
   "cell_type": "markdown",
   "source": [],
   "metadata": {
    "collapsed": false
   },
   "id": "7f372f8a528511c6"
  },
  {
   "cell_type": "code",
   "outputs": [],
   "source": [
    "import numpy as np\n",
    "import torch.nn as nn\n",
    "import torch\n",
    "import numpy as np\n",
    "from transformers import AutoTokenizer\n",
    "import pandas as pd\n",
    "from sklearn.pipeline import Pipeline\n",
    "from sklearn.feature_extraction.text import CountVectorizer\n",
    "from sklearn.feature_extraction.text import TfidfTransformer\n",
    "from sklearn.linear_model import LinearRegression\n",
    "from sklearn.model_selection import train_test_split\n",
    "from sklearn.metrics import classification_report\n",
    "from sklearn.metrics import accuracy_score"
   ],
   "metadata": {
    "collapsed": false,
    "ExecuteTime": {
     "end_time": "2024-06-02T20:03:21.473004Z",
     "start_time": "2024-06-02T20:03:15.861891Z"
    }
   },
   "id": "9f26e4f2a0210687",
   "execution_count": 1
  },
  {
   "cell_type": "code",
   "outputs": [],
   "source": [
    "from transformers import BertTokenizer, BertModel\n",
    "tokenizer = BertTokenizer.from_pretrained('sentence-transformers/paraphrase-TinyBERT-L6-v2')"
   ],
   "metadata": {
    "collapsed": false,
    "ExecuteTime": {
     "end_time": "2024-06-02T20:03:24.061468Z",
     "start_time": "2024-06-02T20:03:21.475747Z"
    }
   },
   "id": "760f039e33dd3043",
   "execution_count": 2
  },
  {
   "cell_type": "code",
   "outputs": [],
   "source": [
    "model = BertModel.from_pretrained('sentence-transformers/paraphrase-TinyBERT-L6-v2')"
   ],
   "metadata": {
    "collapsed": false,
    "ExecuteTime": {
     "end_time": "2024-06-02T21:42:21.438297Z",
     "start_time": "2024-06-02T21:42:20.833189Z"
    }
   },
   "id": "6ab6e57be026487d",
   "execution_count": 13
  },
  {
   "cell_type": "code",
   "outputs": [
    {
     "data": {
      "text/plain": "<All keys matched successfully>"
     },
     "execution_count": 16,
     "metadata": {},
     "output_type": "execute_result"
    }
   ],
   "source": [
    "#load the model weights from the file via loading the state_dict\n",
    "model.load_state_dict(torch.load('model_weights.pth'))"
   ],
   "metadata": {
    "collapsed": false,
    "ExecuteTime": {
     "end_time": "2024-06-02T21:43:16.902541Z",
     "start_time": "2024-06-02T21:43:16.776561Z"
    }
   },
   "id": "1dccdb2200ede718",
   "execution_count": 16
  },
  {
   "cell_type": "code",
   "outputs": [],
   "source": [
    "text = \"Here is the sentence I want embeddings for.\"\n",
    "tokenized_text = tokenizer.encode_plus(text, add_special_tokens=True, return_tensors='pt')"
   ],
   "metadata": {
    "collapsed": false,
    "ExecuteTime": {
     "end_time": "2024-06-02T20:03:24.077255Z",
     "start_time": "2024-06-02T20:03:24.063831Z"
    }
   },
   "id": "cbbc79e5fe42ab4c",
   "execution_count": 3
  },
  {
   "cell_type": "code",
   "outputs": [],
   "source": [
    "embedded_text = model(**tokenized_text)"
   ],
   "metadata": {
    "collapsed": false,
    "ExecuteTime": {
     "end_time": "2024-06-02T21:19:21.040906Z",
     "start_time": "2024-06-02T21:19:20.891088Z"
    }
   },
   "id": "3cc12df6a6207f59",
   "execution_count": 7
  },
  {
   "cell_type": "code",
   "outputs": [
    {
     "data": {
      "text/plain": "tensor([[[-0.0936,  0.0594, -0.2101,  ..., -0.2028, -0.3142,  0.1470],\n         [ 0.0616,  0.1545, -0.0600,  ..., -0.0056, -0.4102,  0.0247],\n         [-0.2283,  0.1356, -0.0914,  ..., -0.0470, -0.1464, -0.1197],\n         ...,\n         [ 0.2567, -0.0418, -0.0823,  ..., -0.0983, -0.3467,  0.0449],\n         [-0.1123, -0.1109, -0.2205,  ..., -0.2437, -0.1630, -0.0140],\n         [-0.0598,  0.0138,  0.2487,  ..., -0.0523, -0.1540,  0.2993]]],\n       grad_fn=<NativeLayerNormBackward0>)"
     },
     "execution_count": 9,
     "metadata": {},
     "output_type": "execute_result"
    }
   ],
   "source": [
    "embedded_text.last_hidden_state"
   ],
   "metadata": {
    "collapsed": false,
    "ExecuteTime": {
     "end_time": "2024-06-02T21:19:31.536203Z",
     "start_time": "2024-06-02T21:19:31.530207Z"
    }
   },
   "id": "784d03bbb3b7aea1",
   "execution_count": 9
  },
  {
   "cell_type": "code",
   "outputs": [
    {
     "data": {
      "text/plain": "{'input_ids': tensor([[ 101, 2182, 2003, 1996, 6251, 1045, 2215, 7861, 8270, 4667, 2015, 2005,\n         1012,  102]]), 'token_type_ids': tensor([[0, 0, 0, 0, 0, 0, 0, 0, 0, 0, 0, 0, 0, 0]]), 'attention_mask': tensor([[1, 1, 1, 1, 1, 1, 1, 1, 1, 1, 1, 1, 1, 1]])}"
     },
     "execution_count": 18,
     "metadata": {},
     "output_type": "execute_result"
    }
   ],
   "source": [
    "tokenized_text"
   ],
   "metadata": {
    "collapsed": false,
    "ExecuteTime": {
     "end_time": "2024-06-02T21:44:18.934247Z",
     "start_time": "2024-06-02T21:44:18.914776Z"
    }
   },
   "id": "d90b5bb510f69713",
   "execution_count": 18
  },
  {
   "cell_type": "code",
   "outputs": [],
   "source": [
    "embedded_text = model(**tokenized_text)"
   ],
   "metadata": {
    "collapsed": false,
    "ExecuteTime": {
     "end_time": "2024-06-02T21:44:17.517139Z",
     "start_time": "2024-06-02T21:44:17.480319Z"
    }
   },
   "id": "4eb00fa2cf33afc0",
   "execution_count": 17
  },
  {
   "cell_type": "code",
   "outputs": [
    {
     "data": {
      "text/plain": "tensor([[[-0.0936,  0.0594, -0.2101,  ..., -0.2028, -0.3142,  0.1470],\n         [ 0.0616,  0.1545, -0.0600,  ..., -0.0056, -0.4102,  0.0247],\n         [-0.2283,  0.1356, -0.0914,  ..., -0.0470, -0.1464, -0.1197],\n         ...,\n         [ 0.2567, -0.0418, -0.0823,  ..., -0.0983, -0.3467,  0.0449],\n         [-0.1123, -0.1109, -0.2205,  ..., -0.2437, -0.1630, -0.0140],\n         [-0.0598,  0.0138,  0.2487,  ..., -0.0523, -0.1540,  0.2993]]],\n       grad_fn=<NativeLayerNormBackward0>)"
     },
     "execution_count": 19,
     "metadata": {},
     "output_type": "execute_result"
    }
   ],
   "source": [
    "embedded_text.last_hidden_state"
   ],
   "metadata": {
    "collapsed": false,
    "ExecuteTime": {
     "end_time": "2024-06-02T21:44:47.019068Z",
     "start_time": "2024-06-02T21:44:47.011099Z"
    }
   },
   "id": "2b2c5cb2006725d2",
   "execution_count": 19
  },
  {
   "cell_type": "markdown",
   "source": [],
   "metadata": {
    "collapsed": false
   },
   "id": "f57263a92180103e"
  },
  {
   "cell_type": "markdown",
   "source": [
    "Masz tutaj script o oktorym w komicie wspominalem"
   ],
   "metadata": {
    "collapsed": false
   },
   "id": "7880a2ff8ae3f08b"
  },
  {
   "cell_type": "code",
   "outputs": [
    {
     "data": {
      "text/plain": "<All keys matched successfully>"
     },
     "execution_count": 20,
     "metadata": {},
     "output_type": "execute_result"
    }
   ],
   "source": [
    "import translators as ts\n",
    "from transformers import BertTokenizer, BertModel\n",
    "\n",
    "tokenizer = BertTokenizer.from_pretrained('sentence-transformers/paraphrase-TinyBERT-L6-v2')\n",
    "model = BertModel.from_pretrained('sentence-transformers/paraphrase-TinyBERT-L6-v2')\n",
    "#load the model weights from the file via loading the state_dict\n",
    "model.load_state_dict(torch.load('model_weights.pth'))"
   ],
   "metadata": {
    "collapsed": false,
    "ExecuteTime": {
     "end_time": "2024-06-02T21:47:02.755995Z",
     "start_time": "2024-06-02T21:47:01.644937Z"
    }
   },
   "id": "6bb76824a940612f",
   "execution_count": 20
  },
  {
   "cell_type": "code",
   "outputs": [],
   "source": [
    "#script that translates the text from polish to english and then tokenizes and embeds it\n",
    "def translate_token_embed(text):\n",
    "    translated_text = ts.translate_text(query_text=text, translator='google', from_language='pl', to_language='en')\n",
    "    tokenized_text = tokenizer.encode_plus(translated_text, add_special_tokens=True, return_tensors='pt')\n",
    "    embedded_text = model(**tokenized_text)\n",
    "    return embedded_text.last_hidden_state\n"
   ],
   "metadata": {
    "collapsed": false,
    "ExecuteTime": {
     "end_time": "2024-06-02T21:52:44.278330Z",
     "start_time": "2024-06-02T21:52:44.270246Z"
    }
   },
   "id": "4479d4c6bbf71f82",
   "execution_count": 26
  }
 ],
 "metadata": {
  "kernelspec": {
   "display_name": "Python 3",
   "language": "python",
   "name": "python3"
  },
  "language_info": {
   "codemirror_mode": {
    "name": "ipython",
    "version": 2
   },
   "file_extension": ".py",
   "mimetype": "text/x-python",
   "name": "python",
   "nbconvert_exporter": "python",
   "pygments_lexer": "ipython2",
   "version": "2.7.6"
  }
 },
 "nbformat": 4,
 "nbformat_minor": 5
}
