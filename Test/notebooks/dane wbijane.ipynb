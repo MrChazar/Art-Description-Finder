{
 "cells": [
  {
   "cell_type": "markdown",
   "source": [
    "Opisy po polsku"
   ],
   "metadata": {
    "collapsed": false
   },
   "id": "c09cc8ea64a6a4ed"
  },
  {
   "cell_type": "code",
   "execution_count": 1,
   "id": "initial_id",
   "metadata": {
    "collapsed": true,
    "ExecuteTime": {
     "end_time": "2024-05-29T21:36:16.275735Z",
     "start_time": "2024-05-29T21:36:16.251545Z"
    }
   },
   "outputs": [],
   "source": [
    "nemesis = []"
   ]
  },
  {
   "cell_type": "code",
   "outputs": [],
   "source": [
    "nemesis1 = 'Pionowa, symetryczna kompozycja w mrocznej, stalowo-błękitnej gamie z pojedynczymi krwawymi rozbłyskami,  przedstawiająca ujęte frontalnie popiersie opancerzonego w kosmiczny skafander wojownika, nad którym unosi się wyłaniający z mroku, przypominający Obcego, pozbawiony oczu stwór o wielu kończynach z rozwartą, zębatą paszczą i szponami po lewej stronie. Nastrój opresji, zagrożenia,  rozmyte tło, ostre kontrasty światłocieniowe na przyłbicy skafandra, czaszce i szponach Obcego.'"
   ],
   "metadata": {
    "collapsed": false,
    "ExecuteTime": {
     "end_time": "2024-05-29T21:36:16.291200Z",
     "start_time": "2024-05-29T21:36:16.280505Z"
    }
   },
   "id": "736a81cb8e40e76b",
   "execution_count": 2
  },
  {
   "cell_type": "code",
   "outputs": [],
   "source": [
    "nemesis2 = 'Czerwone, plazmatycznie płonące tło, stopniowo rozjaśniające się ku centralnie usytuowanemu świetlistemu okręgowi. Na pierwszym planie ciemna, obrócona tyłem sylwetka uzbrojonej człekokształtnej postaci w lekkim skafandrze, w lewej ręce trzymającej broń przypominającą karabin M16, prawą zaś unosząca w kierunku okręgu.'"
   ],
   "metadata": {
    "collapsed": false,
    "ExecuteTime": {
     "end_time": "2024-05-29T21:36:16.306908Z",
     "start_time": "2024-05-29T21:36:16.295217Z"
    }
   },
   "id": "f9a9e604b94c13e",
   "execution_count": 3
  },
  {
   "cell_type": "code",
   "outputs": [],
   "source": [
    "nemesis3 = 'Ujęte w skrócie perspektywicznym od prawej do lewej strony zbliżenie na kokpit sterowniczy z centralnie usytuowanym ekranem prezentującym ostrzeżenie o przekroczeniu norm termicznych. W drugim planie, niejako za szybą fioletowo-purpurowego  kokpitu nieokreślona, błękitna przestrzeń rozbłyskująca eksplozjami. Całość kompozycji usiana refleksami i odbiciami sugerującymi szereg nakładających się na siebie szklanych i połyskliwych planów.'"
   ],
   "metadata": {
    "collapsed": false,
    "ExecuteTime": {
     "end_time": "2024-05-29T21:36:16.321974Z",
     "start_time": "2024-05-29T21:36:16.310215Z"
    }
   },
   "id": "b1981df9fe256c8d",
   "execution_count": 4
  },
  {
   "cell_type": "code",
   "outputs": [],
   "source": [
    "nemesis4 ='Nad wypełniającą niemal całą kompozycję, połyskującą w ostatnim planie powierzchnią nakreślonej planety, unosi się gigantyczny, płaski pojazd kosmiczny z widoczną na burcie nazwą.   Jego ocieniony spód kontrastuje ze świetlistym tłem, dookoła w pewnym oddaleniu  krążą inne niezidentyfikowane obiekty latające. Od dołu, z lewej strony wyłania się z mroku inny gigantyczny pojazd o cylindrycznym kształcie.'"
   ],
   "metadata": {
    "collapsed": false,
    "ExecuteTime": {
     "end_time": "2024-05-29T21:36:16.338103Z",
     "start_time": "2024-05-29T21:36:16.328438Z"
    }
   },
   "id": "a1b2ddbe499ccf4",
   "execution_count": 5
  },
  {
   "cell_type": "code",
   "outputs": [],
   "source": [
    "nemesis5 = 'W centralnej części kompozycji, na tle rozjaśniającego się od lewej do prawej strony czerwonego, plazmatycznego tła, widoczna jest sylwetka uzbrojonej w broń przypominającą karabin M16 postaci w lekkim skafandrze, stojącej na tle rozjaśniającego się od lewej do prawej strony czerwonego, plazmatycznego tła. W prawej ręce trzyma ona broń, lewą zaś wyciąga w kierunku centralnie usytuowanego, świetlistego okręgu.'"
   ],
   "metadata": {
    "collapsed": false,
    "ExecuteTime": {
     "end_time": "2024-05-29T21:36:16.354057Z",
     "start_time": "2024-05-29T21:36:16.341284Z"
    }
   },
   "id": "26cf3c8afbb81fcb",
   "execution_count": 6
  },
  {
   "cell_type": "code",
   "outputs": [],
   "source": [
    "nemesis6 = 'Z mrocznej, fioletowo-czarnej przestrzeni o zaburzonym horyzoncie, opadającym diagonalnie  od prawej do lewej strony, wyłania w centrum kompozycji złowroga postać otoczona stertą organicznych kształtów, demoniczny obcy zwrócony w stronę widza, o podłużnym, połyskującym zielonkawo czerepie pozbawionym oczu i okrytym pancerzem. Zza jego pleców wyłaniają się ostro zakończone, owadzie kończyny. Całość oplatają śluzowate, pajęcze nici.'"
   ],
   "metadata": {
    "collapsed": false,
    "ExecuteTime": {
     "end_time": "2024-05-29T21:36:16.369485Z",
     "start_time": "2024-05-29T21:36:16.357932Z"
    }
   },
   "id": "6b6ae1937f8c3de4",
   "execution_count": 7
  },
  {
   "cell_type": "code",
   "outputs": [],
   "source": [
    "zombicide = []"
   ],
   "metadata": {
    "collapsed": false,
    "ExecuteTime": {
     "end_time": "2024-05-29T21:36:16.384694Z",
     "start_time": "2024-05-29T21:36:16.373998Z"
    }
   },
   "id": "270c39781acb8200",
   "execution_count": 8
  },
  {
   "cell_type": "code",
   "outputs": [],
   "source": [
    "zombicide1 = 'Na czerwonej, delikatnie żyłkowanej, kamiennej posadzce, stoi w dynamicznych pozach na ugiętych nogach dwóch zwróconych lekko w prawo pojedynkujących się średniowiecznych wojowników z zaciętymi minami. Ich zwrócone do widza sylwetki pozbawione są cienia, pierwszy, rudowłosy uzbrojony jest w krótkie czekany, drugi o długich blond włosach w zakrwawiony miecz. W głębi za ich plecami scenie przygląda się ukazany jedynie w zarysie ciemnoszary, anonimowy tłum.'"
   ],
   "metadata": {
    "collapsed": false,
    "ExecuteTime": {
     "end_time": "2024-05-29T21:36:16.400456Z",
     "start_time": "2024-05-29T21:36:16.388066Z"
    }
   },
   "id": "a35b88e3cca1a7db",
   "execution_count": 9
  },
  {
   "cell_type": "code",
   "outputs": [],
   "source": [
    "zombicide2 = 'Wąsko kadrowana scena walki ukazuje na tle oświetlonej ogniem średniowiecznej zabudowy szachulcowej  pięć walczących postaci. Długowłosego, wrzeszczącego mężczyznę z obnażonym torsem, trzymającego za plecami miecz gotowy do uderzenia, osłanianego z lewej strony przez orientalnie odzianego brodacza, od przodu przez pochylonego, ubranego w wilczą skórę Wikinga, z prawej zaś przez długowłosą kobietę dobywającą jedną ręką miecza, a drugą unoszącą nad głową owinięty rzemieniem kostur oraz brodatego konkwistadora, mierzącego z masywnej kuszy w otaczający ich zewsząd, atakujący, niewyraźny tłum groteskowych postaci, mutantów o zielonej skórze.  Dynamizm kompozycji podkreśla gwałtowne poucinanie sylwetek, widocznych w kadrze tylko częściowo.'"
   ],
   "metadata": {
    "collapsed": false,
    "ExecuteTime": {
     "end_time": "2024-05-29T21:36:16.416251Z",
     "start_time": "2024-05-29T21:36:16.404452Z"
    }
   },
   "id": "21c279ae8f0def6f",
   "execution_count": 10
  },
  {
   "cell_type": "code",
   "outputs": [],
   "source": [
    "sen = []"
   ],
   "metadata": {
    "collapsed": false,
    "ExecuteTime": {
     "end_time": "2024-05-29T21:36:16.431504Z",
     "start_time": "2024-05-29T21:36:16.419179Z"
    }
   },
   "id": "1087b7457dc19984",
   "execution_count": 11
  },
  {
   "cell_type": "code",
   "outputs": [],
   "source": [
    "sen1 ='Utrzymana w pastelowych, jasnych barwach błękitów i oranżyt kompozycja podzielona jest na wysokości trzech czwartych lustrem wody. W górnej partii, nieco po prawej, ponad jej powierzchnią wyłania się niewielka tropikalna wyspa, porośnięte dwoma palmami. Jej podstawę stanowi zajmująca dolną partię, wysoka  architektoniczna struktura, rodzaj antycznej metropolii osadzonej na ostro wznoszącym sie  stożku wulkanicznym. Ponad dachami kilku pojedynczych budowli w lewym dolnym rogu unosi się odwrócony tyłem do widza żółw z niewielką, centralną budowlą na grzbiecie.'"
   ],
   "metadata": {
    "collapsed": false,
    "ExecuteTime": {
     "end_time": "2024-05-29T21:36:16.447923Z",
     "start_time": "2024-05-29T21:36:16.435525Z"
    }
   },
   "id": "9ba758d48c18e5c",
   "execution_count": 12
  },
  {
   "cell_type": "code",
   "outputs": [],
   "source": [
    "sen2 = 'Utrzymana w gamie spatynowanych bieli i szarości kompozycja ukazuje rozległe pole rzadko usiane pozbawionymi liści drzewami, których wijące się gałęzie wychylone są zdecydowanie w lewą stronę. Ich korzenie wrastają płynnie w grzbiety ryb o wachlarzowatych płetwach skrzelowych, zwróconych szeroko otwartymi gębami w prawą stronę. W tle, na horyzoncie, widoczne są zarysy górskiego łańcucha.'"
   ],
   "metadata": {
    "collapsed": false,
    "ExecuteTime": {
     "end_time": "2024-05-29T21:36:16.463104Z",
     "start_time": "2024-05-29T21:36:16.451969Z"
    }
   },
   "id": "b5e4046b6d739d1f",
   "execution_count": 13
  },
  {
   "cell_type": "code",
   "outputs": [],
   "source": [
    "nemesis = [nemesis1, nemesis2, nemesis3, nemesis4, nemesis5, nemesis6]\n",
    "zombicide = [zombicide1, zombicide2]\n",
    "sen = [sen1, sen2]"
   ],
   "metadata": {
    "collapsed": false,
    "ExecuteTime": {
     "end_time": "2024-05-29T21:36:16.478307Z",
     "start_time": "2024-05-29T21:36:16.469464Z"
    }
   },
   "id": "b8778de9078ddfc4",
   "execution_count": 14
  },
  {
   "cell_type": "code",
   "outputs": [],
   "source": [
    "#turn these lists into a csv file with text and category columns(where category is the name of the list)\n",
    "import pandas as pd\n",
    "nemesis_df = pd.DataFrame(nemesis, columns=['text'])\n",
    "nemesis_df['category'] = 'nemesis'\n",
    "zombicide_df = pd.DataFrame(zombicide, columns=['text'])\n",
    "zombicide_df['category'] = 'zombicide'\n",
    "sen_df = pd.DataFrame(sen, columns=['text'])\n",
    "sen_df['category'] = 'sen'"
   ],
   "metadata": {
    "collapsed": false,
    "ExecuteTime": {
     "end_time": "2024-05-29T21:36:18.095855Z",
     "start_time": "2024-05-29T21:36:16.481843Z"
    }
   },
   "id": "c6daa288083b3470",
   "execution_count": 15
  },
  {
   "cell_type": "code",
   "outputs": [],
   "source": [
    "df = pd.concat([nemesis_df, zombicide_df, sen_df], ignore_index=True)"
   ],
   "metadata": {
    "collapsed": false,
    "ExecuteTime": {
     "end_time": "2024-05-29T21:36:18.112105Z",
     "start_time": "2024-05-29T21:36:18.099885Z"
    }
   },
   "id": "37191aa731c1f9e4",
   "execution_count": 16
  },
  {
   "cell_type": "code",
   "outputs": [],
   "source": [
    "df.to_csv('unaugmented_data.csv', index=False)"
   ],
   "metadata": {
    "collapsed": false,
    "ExecuteTime": {
     "end_time": "2024-05-29T21:36:18.142131Z",
     "start_time": "2024-05-29T21:36:18.115806Z"
    }
   },
   "id": "b12b1e73af320ff8",
   "execution_count": 17
  },
  {
   "cell_type": "code",
   "outputs": [],
   "source": [
    "#read the csv\n",
    "df = pd.read_csv('unaugmented_data.csv')"
   ],
   "metadata": {
    "collapsed": false,
    "ExecuteTime": {
     "end_time": "2024-05-29T21:36:18.174031Z",
     "start_time": "2024-05-29T21:36:18.145903Z"
    }
   },
   "id": "fa2fc1a4134b2b5c",
   "execution_count": 18
  },
  {
   "cell_type": "code",
   "outputs": [],
   "source": [
    "import nlpaug.augmenter.word as naw"
   ],
   "metadata": {
    "collapsed": false,
    "ExecuteTime": {
     "end_time": "2024-05-29T21:42:45.874033Z",
     "start_time": "2024-05-29T21:42:28.996121Z"
    }
   },
   "id": "e6f0a5930a84dc12",
   "execution_count": 24
  },
  {
   "cell_type": "code",
   "outputs": [],
   "source": [
    "#use synonym augmentation\n",
    "aug = naw.SynonymAug(aug_src='wordnet',model_path='wordnet',aug_min=6, aug_max=20, aug_p=0.3)"
   ],
   "metadata": {
    "collapsed": false,
    "ExecuteTime": {
     "end_time": "2024-05-29T22:52:26.042019Z",
     "start_time": "2024-05-29T22:52:26.024319Z"
    }
   },
   "id": "cdd12eb80c92e3ee",
   "execution_count": 41
  },
  {
   "cell_type": "code",
   "outputs": [],
   "source": [
    "txt = df['text'][0]"
   ],
   "metadata": {
    "collapsed": false,
    "ExecuteTime": {
     "end_time": "2024-05-29T22:52:26.511502Z",
     "start_time": "2024-05-29T22:52:26.496670Z"
    }
   },
   "id": "db8f3f1e24add90f",
   "execution_count": 42
  },
  {
   "cell_type": "code",
   "outputs": [],
   "source": [
    "augmented_text = aug.augment(txt)"
   ],
   "metadata": {
    "collapsed": false,
    "ExecuteTime": {
     "end_time": "2024-05-29T22:52:26.997169Z",
     "start_time": "2024-05-29T22:52:26.976168Z"
    }
   },
   "id": "d7ce5ac09974b53",
   "execution_count": 43
  },
  {
   "cell_type": "code",
   "outputs": [
    {
     "data": {
      "text/plain": "'Pionowa, symetryczna kompozycja w mrocznej, stalowo-błękitnej gamie z pojedynczymi krwawymi rozbłyskami,  przedstawiająca ujęte frontalnie popiersie opancerzonego w kosmiczny skafander wojownika, nad którym unosi się wyłaniający z mroku, przypominający Obcego, pozbawiony oczu stwór o wielu kończynach z rozwartą, zębatą paszczą i szponami po lewej stronie. Nastrój opresji, zagrożenia,  rozmyte tło, ostre kontrasty światłocieniowe na przyłbicy skafandra, czaszce i szponach Obcego.'"
     },
     "execution_count": 44,
     "metadata": {},
     "output_type": "execute_result"
    }
   ],
   "source": [
    "txt"
   ],
   "metadata": {
    "collapsed": false,
    "ExecuteTime": {
     "end_time": "2024-05-29T22:52:27.526111Z",
     "start_time": "2024-05-29T22:52:27.511945Z"
    }
   },
   "id": "3ad74e53dee5b9fc",
   "execution_count": 44
  },
  {
   "cell_type": "code",
   "outputs": [
    {
     "data": {
      "text/plain": "['Pionowa, symetryczna kompozycja w mrocznej, stalowo - błękitnej gamie z pojedynczymi krwawymi rozbłyskami, przedstawiająca ujęte frontalnie popiersie opancerzonego w kosmiczny skafander wojownika, nad którym unosi się wyłaniający z mroku, przypominający Obcego, pozbawiony oczu stwór o wielu kończynach z rozwartą, zębatą paszczą ace szponami po lewej stronie. Nastrój opresji, zagrożenia, rozmyte tło, ostre kontrasty światłocieniowe sodium przyłbicy skafandra, czaszce i szponach Obcego.']"
     },
     "execution_count": 45,
     "metadata": {},
     "output_type": "execute_result"
    }
   ],
   "source": [
    "augmented_text"
   ],
   "metadata": {
    "collapsed": false,
    "ExecuteTime": {
     "end_time": "2024-05-29T22:52:28.366157Z",
     "start_time": "2024-05-29T22:52:28.359233Z"
    }
   },
   "id": "e2733c9d7672992",
   "execution_count": 45
  },
  {
   "cell_type": "code",
   "outputs": [],
   "source": [
    "import translators"
   ],
   "metadata": {
    "collapsed": false,
    "ExecuteTime": {
     "end_time": "2024-05-29T22:58:27.378590Z",
     "start_time": "2024-05-29T22:58:27.066576Z"
    }
   },
   "id": "af3a28933ed1b73d",
   "execution_count": 46
  },
  {
   "cell_type": "code",
   "outputs": [],
   "source": [
    "#translate the text to english\n",
    "txt = 'Pionowa, symetryczna kompozycja w mrocznej, stalowo-błękitnej gamie z pojedynczymi krwawymi rozbłyskami,  przedstawiająca ujęte frontalnie popiersie opancerzonego w kosmiczny skafander wojownika, nad którym unosi się wyłaniający z mroku, przypominający Obcego, pozbawiony oczu stwór o wielu kończynach z rozwartą, zębatą paszczą i szponami po lewej stronie. Nastrój opresji, zagrożenia,  rozmyte tło, ostre kontrasty światłocieniowe na przyłbicy skafandra, czaszce i szponach Obcego.'\n",
    "translated_text = translators.translate_text(query_text=txt, translator='google', from_language='pl', to_language='en')"
   ],
   "metadata": {
    "collapsed": false,
    "ExecuteTime": {
     "end_time": "2024-05-29T23:00:57.096138Z",
     "start_time": "2024-05-29T23:00:55.340705Z"
    }
   },
   "id": "7714ea394c1e27e1",
   "execution_count": 48
  },
  {
   "cell_type": "code",
   "outputs": [
    {
     "data": {
      "text/plain": "'A vertical, symmetrical composition in a dark, steel-blue range with single bloody flashes, depicting a frontal bust of armored to the space suit of the warrior, above which the emerging from the dark, reminiscent of a foreign, creative creature with many limbs with a open, toothed, toothed mouths is floated. on the left side. The mood of oppression, threats, blurred background, sharp chiaroscuro contrasts on the suit of the suit, skull and foreign claws.'"
     },
     "execution_count": 49,
     "metadata": {},
     "output_type": "execute_result"
    }
   ],
   "source": [
    "translated_text"
   ],
   "metadata": {
    "collapsed": false,
    "ExecuteTime": {
     "end_time": "2024-05-29T23:01:00.495412Z",
     "start_time": "2024-05-29T23:01:00.478652Z"
    }
   },
   "id": "9402bfa6b6f2a65c",
   "execution_count": 49
  },
  {
   "cell_type": "code",
   "outputs": [],
   "source": [
    "augmented_text = aug.augment(translated_text, n=5)"
   ],
   "metadata": {
    "collapsed": false,
    "ExecuteTime": {
     "end_time": "2024-05-29T23:01:21.849378Z",
     "start_time": "2024-05-29T23:01:21.747349Z"
    }
   },
   "id": "80e4e98953986a20",
   "execution_count": 50
  },
  {
   "cell_type": "code",
   "outputs": [
    {
     "data": {
      "text/plain": "['A vertical, proportionate paper in a nighttime, steel - patrician range with single bloody flashes, depicting a frontal bust of armored to the space courtship of the warrior, above which the emerge from the dark, reminiscent of a foreign, creative creature with many limbs with a undetermined, toothed, toothed mouths be float. on the unexpended side. The climate of subjugation, threats, blurred background, sharp chiaroscuro line on the suit of the suit, skull and foreign claw.',\n 'A erect, symmetrical penning in a dark, steel - blue range with individual bloody flashes, depicting a frontal bust of armored to the space suit of the warrior, above which the egress from the wickedness, reminiscent of a foreign, creative creature with many limbs with a open, toothed, toothed oral cavity is floated. on the left english. The mood of oppression, threats, blurred setting, sharp chiaroscuro contrasts on the suit of the suit, skull and foreign nipper.',\n 'A vertical, symmetrical constitution in a dark, steel - blue range with single bloody flashes, depicting a head on fizzle of armored to the space suit of the warrior, above which the emerge from the wickedness, reminiscent of a foreign, creative creature with many limbs with a open, toothed, toothed mouths constitute float. on the left side. The mood of oppression, threats, confuse ground, piercing chiaroscuro contrasts on the suit of the suit, skull and extraneous claws.',\n 'A vertical, symmetrical composition in a nighttime, sword - downcast range with single bloody flashes, picture a head on binge of armored to the distance suit of clothes of the warrior, above which the emerging from the dark, reminiscent of a foreign, creative creature with many limb with a opened, toothed, toothed mouths be floated. on the left side. The climate of oppression, menace, blurred background, sharp chiaroscuro contrasts on the lawsuit of the suit, skull and foreign claws.',\n 'A upright, symmetrical composition in a dark, steel - blue range of a function with single bloody flashes, depict a frontal bust of armored to the place suit of the warrior, above which the emerging from the dark, reminiscent of a extraneous, creative fauna with many limbs with a open, toothed, serrated mouths be float. on the left side. The modality of oppressiveness, threats, blur backdrop, sharp chiaroscuro contrasts on the suit of the suit, skull and foreign pincer.']"
     },
     "execution_count": 51,
     "metadata": {},
     "output_type": "execute_result"
    }
   ],
   "source": [
    "augmented_text"
   ],
   "metadata": {
    "collapsed": false,
    "ExecuteTime": {
     "end_time": "2024-05-29T23:01:24.357713Z",
     "start_time": "2024-05-29T23:01:24.342512Z"
    }
   },
   "id": "9e5fc453bab48f2f",
   "execution_count": 51
  },
  {
   "cell_type": "code",
   "outputs": [],
   "source": [
    "#augmentation script\n",
    "def augment_text(index,n):\n",
    "    txt = df['text'][index]\n",
    "    translated_text = translators.translate_text(query_text=txt, translator='google', from_language='pl', to_language='en')\n",
    "    augmented_text = aug.augment(translated_text, n=n)\n",
    "    #for each element in augmented_text, add it to the dataframe with the same category as the original text\n",
    "    for i in range(len(augmented_text)):\n",
    "        df = df.append({'text':augmented_text[i], 'category':df['category'][index]}, ignore_index=True)\n",
    "    return augmented_text"
   ],
   "metadata": {
    "collapsed": false,
    "ExecuteTime": {
     "end_time": "2024-05-29T23:03:16.236492Z",
     "start_time": "2024-05-29T23:03:16.228639Z"
    }
   },
   "id": "9d5171000188569b",
   "execution_count": 53
  },
  {
   "cell_type": "code",
   "outputs": [],
   "source": [],
   "metadata": {
    "collapsed": false
   },
   "id": "d14026cd388059e6"
  }
 ],
 "metadata": {
  "kernelspec": {
   "display_name": "Python 3",
   "language": "python",
   "name": "python3"
  },
  "language_info": {
   "codemirror_mode": {
    "name": "ipython",
    "version": 2
   },
   "file_extension": ".py",
   "mimetype": "text/x-python",
   "name": "python",
   "nbconvert_exporter": "python",
   "pygments_lexer": "ipython2",
   "version": "2.7.6"
  }
 },
 "nbformat": 4,
 "nbformat_minor": 5
}
