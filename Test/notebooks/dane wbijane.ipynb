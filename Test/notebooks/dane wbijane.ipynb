{
 "cells": [
  {
   "cell_type": "markdown",
   "source": [
    "Opisy po polsku"
   ],
   "metadata": {
    "collapsed": false
   },
   "id": "c09cc8ea64a6a4ed"
  },
  {
   "cell_type": "code",
   "execution_count": 1,
   "id": "initial_id",
   "metadata": {
    "collapsed": true,
    "ExecuteTime": {
     "end_time": "2024-05-27T19:56:09.440081Z",
     "start_time": "2024-05-27T19:56:09.413775Z"
    }
   },
   "outputs": [],
   "source": [
    "nemesis = []"
   ]
  },
  {
   "cell_type": "code",
   "outputs": [],
   "source": [
    "nemesis1 = 'Pionowa, symetryczna kompozycja w mrocznej, stalowo-błękitnej gamie z pojedynczymi krwawymi rozbłyskami,  przedstawiająca ujęte frontalnie popiersie opancerzonego w kosmiczny skafander wojownika, nad którym unosi się wyłaniający z mroku, przypominający Obcego, pozbawiony oczu stwór o wielu kończynach z rozwartą, zębatą paszczą i szponami po lewej stronie. Nastrój opresji, zagrożenia,  rozmyte tło, ostre kontrasty światłocieniowe na przyłbicy skafandra, czaszce i szponach Obcego.'"
   ],
   "metadata": {
    "collapsed": false,
    "ExecuteTime": {
     "end_time": "2024-05-27T19:56:39.805895Z",
     "start_time": "2024-05-27T19:56:39.793451Z"
    }
   },
   "id": "736a81cb8e40e76b",
   "execution_count": 2
  },
  {
   "cell_type": "code",
   "outputs": [],
   "source": [
    "nemesis2 = 'Czerwone, plazmatycznie płonące tło, stopniowo rozjaśniające się ku centralnie usytuowanemu świetlistemu okręgowi. Na pierwszym planie ciemna, obrócona tyłem sylwetka uzbrojonej człekokształtnej postaci w lekkim skafandrze, w lewej ręce trzymającej broń przypominającą karabin M16, prawą zaś unosząca w kierunku okręgu.'"
   ],
   "metadata": {
    "collapsed": false,
    "ExecuteTime": {
     "end_time": "2024-05-27T19:57:16.418225Z",
     "start_time": "2024-05-27T19:57:16.407738Z"
    }
   },
   "id": "f9a9e604b94c13e",
   "execution_count": 5
  },
  {
   "cell_type": "code",
   "outputs": [],
   "source": [
    "nemesis3 = 'Ujęte w skrócie perspektywicznym od prawej do lewej strony zbliżenie na kokpit sterowniczy z centralnie usytuowanym ekranem prezentującym ostrzeżenie o przekroczeniu norm termicznych. W drugim planie, niejako za szybą fioletowo-purpurowego  kokpitu nieokreślona, błękitna przestrzeń rozbłyskująca eksplozjami. Całość kompozycji usiana refleksami i odbiciami sugerującymi szereg nakładających się na siebie szklanych i połyskliwych planów.'"
   ],
   "metadata": {
    "collapsed": false,
    "ExecuteTime": {
     "end_time": "2024-05-27T19:57:39.798580Z",
     "start_time": "2024-05-27T19:57:39.786698Z"
    }
   },
   "id": "b1981df9fe256c8d",
   "execution_count": 7
  },
  {
   "cell_type": "code",
   "outputs": [],
   "source": [
    "nemesis4 ='Nad wypełniającą niemal całą kompozycję, połyskującą w ostatnim planie powierzchnią nakreślonej planety, unosi się gigantyczny, płaski pojazd kosmiczny z widoczną na burcie nazwą.   Jego ocieniony spód kontrastuje ze świetlistym tłem, dookoła w pewnym oddaleniu  krążą inne niezidentyfikowane obiekty latające. Od dołu, z lewej strony wyłania się z mroku inny gigantyczny pojazd o cylindrycznym kształcie.'"
   ],
   "metadata": {
    "collapsed": false,
    "ExecuteTime": {
     "end_time": "2024-05-27T19:58:10.793227Z",
     "start_time": "2024-05-27T19:58:10.777152Z"
    }
   },
   "id": "a1b2ddbe499ccf4",
   "execution_count": 8
  },
  {
   "cell_type": "code",
   "outputs": [],
   "source": [
    "nemesis5 = 'W centralnej części kompozycji, na tle rozjaśniającego się od lewej do prawej strony czerwonego, plazmatycznego tła, widoczna jest sylwetka uzbrojonej w broń przypominającą karabin M16 postaci w lekkim skafandrze, stojącej na tle rozjaśniającego się od lewej do prawej strony czerwonego, plazmatycznego tła. W prawej ręce trzyma ona broń, lewą zaś wyciąga w kierunku centralnie usytuowanego, świetlistego okręgu.'"
   ],
   "metadata": {
    "collapsed": false,
    "ExecuteTime": {
     "end_time": "2024-05-27T19:58:54.970025Z",
     "start_time": "2024-05-27T19:58:54.960723Z"
    }
   },
   "id": "26cf3c8afbb81fcb",
   "execution_count": 9
  },
  {
   "cell_type": "code",
   "outputs": [],
   "source": [
    "nemesis6 = 'Z mrocznej, fioletowo-czarnej przestrzeni o zaburzonym horyzoncie, opadającym diagonalnie  od prawej do lewej strony, wyłania w centrum kompozycji złowroga postać otoczona stertą organicznych kształtów, demoniczny obcy zwrócony w stronę widza, o podłużnym, połyskującym zielonkawo czerepie pozbawionym oczu i okrytym pancerzem. Zza jego pleców wyłaniają się ostro zakończone, owadzie kończyny. Całość oplatają śluzowate, pajęcze nici.'"
   ],
   "metadata": {
    "collapsed": false,
    "ExecuteTime": {
     "end_time": "2024-05-27T19:59:10.696841Z",
     "start_time": "2024-05-27T19:59:10.678898Z"
    }
   },
   "id": "6b6ae1937f8c3de4",
   "execution_count": 10
  },
  {
   "cell_type": "code",
   "outputs": [],
   "source": [
    "zombicide = []"
   ],
   "metadata": {
    "collapsed": false,
    "ExecuteTime": {
     "end_time": "2024-05-27T20:00:27.087889Z",
     "start_time": "2024-05-27T20:00:27.071031Z"
    }
   },
   "id": "270c39781acb8200",
   "execution_count": 13
  },
  {
   "cell_type": "code",
   "outputs": [],
   "source": [
    "zombicide1 = 'Na czerwonej, delikatnie żyłkowanej, kamiennej posadzce, stoi w dynamicznych pozach na ugiętych nogach dwóch zwróconych lekko w prawo pojedynkujących się średniowiecznych wojowników z zaciętymi minami. Ich zwrócone do widza sylwetki pozbawione są cienia, pierwszy, rudowłosy uzbrojony jest w krótkie czekany, drugi o długich blond włosach w zakrwawiony miecz. W głębi za ich plecami scenie przygląda się ukazany jedynie w zarysie ciemnoszary, anonimowy tłum.'"
   ],
   "metadata": {
    "collapsed": false,
    "ExecuteTime": {
     "end_time": "2024-05-27T20:00:20.787450Z",
     "start_time": "2024-05-27T20:00:20.779407Z"
    }
   },
   "id": "a35b88e3cca1a7db",
   "execution_count": 12
  },
  {
   "cell_type": "code",
   "outputs": [],
   "source": [
    "zombicide2 = 'Wąsko kadrowana scena walki ukazuje na tle oświetlonej ogniem średniowiecznej zabudowy szachulcowej  pięć walczących postaci. Długowłosego, wrzeszczącego mężczyznę z obnażonym torsem, trzymającego za plecami miecz gotowy do uderzenia, osłanianego z lewej strony przez orientalnie odzianego brodacza, od przodu przez pochylonego, ubranego w wilczą skórę Wikinga, z prawej zaś przez długowłosą kobietę dobywającą jedną ręką miecza, a drugą unoszącą nad głową owinięty rzemieniem kostur oraz brodatego konkwistadora, mierzącego z masywnej kuszy w otaczający ich zewsząd, atakujący, niewyraźny tłum groteskowych postaci, mutantów o zielonej skórze.  Dynamizm kompozycji podkreśla gwałtowne poucinanie sylwetek, widocznych w kadrze tylko częściowo.'"
   ],
   "metadata": {
    "collapsed": false,
    "ExecuteTime": {
     "end_time": "2024-05-27T20:04:48.335739Z",
     "start_time": "2024-05-27T20:04:48.318826Z"
    }
   },
   "id": "21c279ae8f0def6f",
   "execution_count": 14
  },
  {
   "cell_type": "code",
   "outputs": [],
   "source": [
    "sen = []"
   ],
   "metadata": {
    "collapsed": false,
    "ExecuteTime": {
     "end_time": "2024-05-27T20:05:23.567977Z",
     "start_time": "2024-05-27T20:05:23.563764Z"
    }
   },
   "id": "1087b7457dc19984",
   "execution_count": 15
  },
  {
   "cell_type": "code",
   "outputs": [],
   "source": [
    "sen1 ='Utrzymana w pastelowych, jasnych barwach błękitów i oranżyt kompozycja podzielona jest na wysokości trzech czwartych lustrem wody. W górnej partii, nieco po prawej, ponad jej powierzchnią wyłania się niewielka tropikalna wyspa, porośnięte dwoma palmami. Jej podstawę stanowi zajmująca dolną partię, wysoka  architektoniczna struktura, rodzaj antycznej metropolii osadzonej na ostro wznoszącym sie  stożku wulkanicznym. Ponad dachami kilku pojedynczych budowli w lewym dolnym rogu unosi się odwrócony tyłem do widza żółw z niewielką, centralną budowlą na grzbiecie.'"
   ],
   "metadata": {
    "collapsed": false,
    "ExecuteTime": {
     "end_time": "2024-05-27T20:05:35.801702Z",
     "start_time": "2024-05-27T20:05:35.792156Z"
    }
   },
   "id": "9ba758d48c18e5c",
   "execution_count": 16
  },
  {
   "cell_type": "code",
   "outputs": [],
   "source": [
    "sen2 = 'Utrzymana w gamie spatynowanych bieli i szarości kompozycja ukazuje rozległe pole rzadko usiane pozbawionymi liści drzewami, których wijące się gałęzie wychylone są zdecydowanie w lewą stronę. Ich korzenie wrastają płynnie w grzbiety ryb o wachlarzowatych płetwach skrzelowych, zwróconych szeroko otwartymi gębami w prawą stronę. W tle, na horyzoncie, widoczne są zarysy górskiego łańcucha.'"
   ],
   "metadata": {
    "collapsed": false,
    "ExecuteTime": {
     "end_time": "2024-05-27T20:07:19.325279Z",
     "start_time": "2024-05-27T20:07:19.311616Z"
    }
   },
   "id": "b5e4046b6d739d1f",
   "execution_count": 17
  },
  {
   "cell_type": "code",
   "outputs": [],
   "source": [
    "nemesis = [nemesis1, nemesis2, nemesis3, nemesis4, nemesis5, nemesis6]\n",
    "zombicide = [zombicide1, zombicide2]\n",
    "sen = [sen1, sen2]"
   ],
   "metadata": {
    "collapsed": false,
    "ExecuteTime": {
     "end_time": "2024-05-27T20:07:47.048137Z",
     "start_time": "2024-05-27T20:07:47.030483Z"
    }
   },
   "id": "b8778de9078ddfc4",
   "execution_count": 18
  },
  {
   "cell_type": "code",
   "outputs": [],
   "source": [],
   "metadata": {
    "collapsed": false
   },
   "id": "c6daa288083b3470"
  }
 ],
 "metadata": {
  "kernelspec": {
   "display_name": "Python 3",
   "language": "python",
   "name": "python3"
  },
  "language_info": {
   "codemirror_mode": {
    "name": "ipython",
    "version": 2
   },
   "file_extension": ".py",
   "mimetype": "text/x-python",
   "name": "python",
   "nbconvert_exporter": "python",
   "pygments_lexer": "ipython2",
   "version": "2.7.6"
  }
 },
 "nbformat": 4,
 "nbformat_minor": 5
}
