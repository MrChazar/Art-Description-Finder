{
 "cells": [
  {
   "cell_type": "markdown",
   "source": [],
   "metadata": {
    "collapsed": false
   },
   "id": "7f372f8a528511c6"
  },
  {
   "metadata": {},
   "cell_type": "markdown",
   "source": [
    "# Zadanie\n",
    "poki co gdybys czas mial to ogarnii wbijanie wbudowan z modelu na chrome + update tego space-a w chromie + zapytanie do chromy(wpisywanie tekstu-wyszukiwanie wbudowania-wyciaganie tekstu ktory odpowiada wbudowaniu)"
   ],
   "id": "cc7f0638b54ca88a"
  },
  {
   "cell_type": "code",
   "source": [
    "from langchain_community.vectorstores import Chroma\n",
    "from langchain_community.embeddings.sentence_transformer import (SentenceTransformerEmbeddings)"
   ],
   "metadata": {
    "collapsed": false,
    "ExecuteTime": {
     "end_time": "2024-06-01T14:49:23.790696Z",
     "start_time": "2024-06-01T14:49:23.776734Z"
    }
   },
   "id": "1958f70976fa8126",
   "outputs": [],
   "execution_count": 22
  },
  {
   "metadata": {
    "ExecuteTime": {
     "end_time": "2024-06-01T15:32:15.490767Z",
     "start_time": "2024-06-01T15:32:15.485780Z"
    }
   },
   "cell_type": "code",
   "source": [
    "# Teksty\n",
    "texts = [\n",
    "    \"This is the first sentence.\",\n",
    "    \"Here is another sentence.\",\n",
    "    \"This text is for testing the embedding model.\",\n",
    "    \"Chroma allows for efficient similarity searches.\",\n",
    "    \"LangChain is a powerful library for language model chaining.\"\n",
    "]"
   ],
   "id": "14590c591978231",
   "outputs": [],
   "execution_count": 43
  },
  {
   "cell_type": "code",
   "source": [
    "# wbudowanie modelu\n",
    "embedding_function = SentenceTransformerEmbeddings(model_name= \"all-MiniLM-L6-v2\")\n",
    "db = Chroma.from_texts(texts, embedding_function, persist_directory=\"./data/embeddings\")\n",
    "db.persist()\n",
    "db"
   ],
   "metadata": {
    "collapsed": false,
    "ExecuteTime": {
     "end_time": "2024-06-01T15:32:18.591022Z",
     "start_time": "2024-06-01T15:32:15.848809Z"
    }
   },
   "id": "9df8250d11d712ee",
   "outputs": [
    {
     "name": "stderr",
     "output_type": "stream",
     "text": [
      "C:\\Users\\kubag\\AppData\\Local\\Programs\\Python\\Python310\\lib\\site-packages\\huggingface_hub\\file_download.py:1132: FutureWarning: `resume_download` is deprecated and will be removed in version 1.0.0. Downloads always resume when possible. If you want to force a new download, use `force_download=True`.\n",
      "  warnings.warn(\n",
      "C:\\Users\\kubag\\AppData\\Local\\Programs\\Python\\Python310\\lib\\site-packages\\langchain_core\\_api\\deprecation.py:119: LangChainDeprecationWarning: Since Chroma 0.4.x the manual persistence method is no longer supported as docs are automatically persisted.\n",
      "  warn_deprecated(\n"
     ]
    },
    {
     "data": {
      "text/plain": [
       "<langchain_community.vectorstores.chroma.Chroma at 0x1a602b6b130>"
      ]
     },
     "execution_count": 44,
     "metadata": {},
     "output_type": "execute_result"
    }
   ],
   "execution_count": 44
  },
  {
   "metadata": {
    "ExecuteTime": {
     "end_time": "2024-06-01T15:32:18.612964Z",
     "start_time": "2024-06-01T15:32:18.593017Z"
    }
   },
   "cell_type": "code",
   "source": [
    "# zapytanie do chromy\n",
    "query = 'sentence'\n",
    "result = db.similarity_search(query)\n",
    "result"
   ],
   "id": "5db899d4dd214fd7",
   "outputs": [
    {
     "data": {
      "text/plain": [
       "[Document(page_content='Here is another sentence.'),\n",
       " Document(page_content='This is the first sentence.'),\n",
       " Document(page_content='a'),\n",
       " Document(page_content='a')]"
      ]
     },
     "execution_count": 45,
     "metadata": {},
     "output_type": "execute_result"
    }
   ],
   "execution_count": 45
  },
  {
   "metadata": {
    "ExecuteTime": {
     "end_time": "2024-06-01T15:32:20.438759Z",
     "start_time": "2024-06-01T15:32:20.430780Z"
    }
   },
   "cell_type": "code",
   "source": [
    "# jeden z wyników\n",
    "result[0].page_content"
   ],
   "id": "1911d3b42e403085",
   "outputs": [
    {
     "data": {
      "text/plain": [
       "'Here is another sentence.'"
      ]
     },
     "execution_count": 46,
     "metadata": {},
     "output_type": "execute_result"
    }
   ],
   "execution_count": 46
  },
  {
   "metadata": {
    "ExecuteTime": {
     "end_time": "2024-06-01T15:32:20.935842Z",
     "start_time": "2024-06-01T15:32:20.921865Z"
    }
   },
   "cell_type": "code",
   "source": [
    "# wczytanie\n",
    "db3 = Chroma(persist_directory=\"./data/embeddings\", embedding_function=embedding_function)\n",
    "db3"
   ],
   "id": "a6759c9e6f264c91",
   "outputs": [
    {
     "data": {
      "text/plain": [
       "<langchain_community.vectorstores.chroma.Chroma at 0x1a6025ae710>"
      ]
     },
     "execution_count": 47,
     "metadata": {},
     "output_type": "execute_result"
    }
   ],
   "execution_count": 47
  },
  {
   "metadata": {
    "ExecuteTime": {
     "end_time": "2024-06-01T15:32:21.526597Z",
     "start_time": "2024-06-01T15:32:21.501664Z"
    }
   },
   "cell_type": "code",
   "source": [
    "query = 'sentence'\n",
    "result = db3.similarity_search(query)\n",
    "result"
   ],
   "id": "e3d6ccf3cb2fc488",
   "outputs": [
    {
     "data": {
      "text/plain": [
       "[Document(page_content='Here is another sentence.'),\n",
       " Document(page_content='This is the first sentence.'),\n",
       " Document(page_content='a'),\n",
       " Document(page_content='a')]"
      ]
     },
     "execution_count": 48,
     "metadata": {},
     "output_type": "execute_result"
    }
   ],
   "execution_count": 48
  },
  {
   "metadata": {
    "ExecuteTime": {
     "end_time": "2024-06-01T15:46:15.907233Z",
     "start_time": "2024-06-01T15:46:15.659881Z"
    }
   },
   "cell_type": "code",
   "source": [
    "# Aktualizacja przestrzeni w db\n",
    "text = \"new sentence that was added recently\"\n",
    "texts.append(text)\n",
    "print(texts)\n",
    "db = Chroma.from_texts(texts, embedding_function, persist_directory=\"./data/embeddings\")\n",
    "db"
   ],
   "id": "a25e56f8ca8567d5",
   "outputs": [
    {
     "name": "stdout",
     "output_type": "stream",
     "text": [
      "['This is the first sentence.', 'Here is another sentence.', 'This text is for testing the embedding model.', 'Chroma allows for efficient similarity searches.', 'LangChain is a powerful library for language model chaining.', 'new sentence that was added recently', 'new sentence that was added recently', 'new sentence that was added recently']\n"
     ]
    },
    {
     "data": {
      "text/plain": [
       "<langchain_community.vectorstores.chroma.Chroma at 0x1a603d5ca30>"
      ]
     },
     "execution_count": 56,
     "metadata": {},
     "output_type": "execute_result"
    }
   ],
   "execution_count": 56
  },
  {
   "metadata": {
    "ExecuteTime": {
     "end_time": "2024-06-01T15:45:57.890742Z",
     "start_time": "2024-06-01T15:45:57.853841Z"
    }
   },
   "cell_type": "code",
   "source": [
    "query = 'sentence'\n",
    "result = db.similarity_search(query)\n",
    "result"
   ],
   "id": "30015cffb0c8c119",
   "outputs": [
    {
     "data": {
      "text/plain": [
       "[Document(page_content='Here is another sentence.'),\n",
       " Document(page_content='Here is another sentence.'),\n",
       " Document(page_content='Here is another sentence.'),\n",
       " Document(page_content='This is the first sentence.')]"
      ]
     },
     "execution_count": 55,
     "metadata": {},
     "output_type": "execute_result"
    }
   ],
   "execution_count": 55
  },
  {
   "metadata": {},
   "cell_type": "code",
   "outputs": [],
   "execution_count": null,
   "source": "",
   "id": "18e37fa34c6823bd"
  }
 ],
 "metadata": {
  "kernelspec": {
   "display_name": "Python 3",
   "language": "python",
   "name": "python3"
  },
  "language_info": {
   "codemirror_mode": {
    "name": "ipython",
    "version": 2
   },
   "file_extension": ".py",
   "mimetype": "text/x-python",
   "name": "python",
   "nbconvert_exporter": "python",
   "pygments_lexer": "ipython2",
   "version": "2.7.6"
  }
 },
 "nbformat": 4,
 "nbformat_minor": 5
}
